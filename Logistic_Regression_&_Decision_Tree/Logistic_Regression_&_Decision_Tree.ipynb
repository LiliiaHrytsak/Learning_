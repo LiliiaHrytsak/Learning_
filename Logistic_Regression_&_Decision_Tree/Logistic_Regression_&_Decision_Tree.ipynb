{
  "cells": [
    {
      "cell_type": "markdown",
      "metadata": {
        "ExecuteTime": {
          "end_time": "2021-11-01T17:11:01.482618Z",
          "start_time": "2021-11-01T17:11:01.480643Z"
        },
        "id": "BjQDAL6Q_8c-"
      },
      "source": [
        "# Мультикласова класифікація"
      ]
    },
    {
      "cell_type": "markdown",
      "metadata": {
        "ExecuteTime": {
          "end_time": "2021-11-01T16:54:15.788550Z",
          "start_time": "2021-11-01T16:54:15.785275Z"
        },
        "id": "4vjnqj1E_8dC"
      },
      "source": [
        "Працюватиму з наступним набором даних:\n",
        "https://archive.ics.uci.edu/ml/datasets/car+evaluation\n",
        "\n",
        "Буду передбачувати клас автомобілів відповідно до його характеристик. Клас може бути unacceptable, acceptable, good, very good.\n",
        "\n",
        "Завантажуватиму набір даних з збереженого car+evaluation.csv"
      ]
    },
    {
      "cell_type": "markdown",
      "metadata": {
        "id": "8-8rWHVO_8dC"
      },
      "source": [
        "0. Імпорт бібліотек."
      ]
    },
    {
      "cell_type": "code",
      "execution_count": null,
      "metadata": {
        "ExecuteTime": {
          "end_time": "2021-11-01T16:56:47.593987Z",
          "start_time": "2021-11-01T16:56:47.590446Z"
        },
        "id": "-xK7vTsT_8dD"
      },
      "outputs": [],
      "source": [
        "import warnings\n",
        "\n",
        "warnings.filterwarnings('ignore')\n",
        "import numpy as np\n",
        "import pandas as pd\n",
        "import matplotlib.pyplot as plt\n",
        "import seaborn as sns\n",
        "import graphviz\n",
        "\n",
        "from mlxtend.plotting import plot_confusion_matrix\n",
        "from sklearn.model_selection import train_test_split\n",
        "from sklearn.preprocessing import OrdinalEncoder\n",
        "from sklearn.preprocessing import LabelEncoder\n",
        "from sklearn.linear_model import LogisticRegression\n",
        "from sklearn.metrics import classification_report\n",
        "from sklearn.metrics import confusion_matrix\n",
        "from sklearn import tree\n",
        "from sklearn.model_selection import GridSearchCV\n",
        "from sklearn.metrics import ConfusionMatrixDisplay\n"
      ]
    },
    {
      "cell_type": "markdown",
      "metadata": {
        "id": "hXTclf6v_8dE"
      },
      "source": [
        "1.1. Завантажую набір даних у змінну df."
      ]
    },
    {
      "cell_type": "code",
      "execution_count": null,
      "metadata": {
        "code_folding": [],
        "id": "PlKzyg3g_8dE",
        "colab": {
          "base_uri": "https://localhost:8080/",
          "height": 449
        },
        "outputId": "4e2c8c5e-0f09-44a3-8b87-0d7914d00002"
      },
      "outputs": [
        {
          "output_type": "display_data",
          "data": {
            "text/plain": [
              "   vhigh vhigh.1  2 2.1  small   low  unacc\n",
              "0  vhigh   vhigh  2   2  small   med  unacc\n",
              "1  vhigh   vhigh  2   2  small  high  unacc\n",
              "2  vhigh   vhigh  2   2    med   low  unacc\n",
              "3  vhigh   vhigh  2   2    med   med  unacc\n",
              "4  vhigh   vhigh  2   2    med  high  unacc"
            ],
            "text/html": [
              "\n",
              "  <div id=\"df-3419f42e-6a38-4f33-b35f-2faae6c79337\">\n",
              "    <div class=\"colab-df-container\">\n",
              "      <div>\n",
              "<style scoped>\n",
              "    .dataframe tbody tr th:only-of-type {\n",
              "        vertical-align: middle;\n",
              "    }\n",
              "\n",
              "    .dataframe tbody tr th {\n",
              "        vertical-align: top;\n",
              "    }\n",
              "\n",
              "    .dataframe thead th {\n",
              "        text-align: right;\n",
              "    }\n",
              "</style>\n",
              "<table border=\"1\" class=\"dataframe\">\n",
              "  <thead>\n",
              "    <tr style=\"text-align: right;\">\n",
              "      <th></th>\n",
              "      <th>vhigh</th>\n",
              "      <th>vhigh.1</th>\n",
              "      <th>2</th>\n",
              "      <th>2.1</th>\n",
              "      <th>small</th>\n",
              "      <th>low</th>\n",
              "      <th>unacc</th>\n",
              "    </tr>\n",
              "  </thead>\n",
              "  <tbody>\n",
              "    <tr>\n",
              "      <th>0</th>\n",
              "      <td>vhigh</td>\n",
              "      <td>vhigh</td>\n",
              "      <td>2</td>\n",
              "      <td>2</td>\n",
              "      <td>small</td>\n",
              "      <td>med</td>\n",
              "      <td>unacc</td>\n",
              "    </tr>\n",
              "    <tr>\n",
              "      <th>1</th>\n",
              "      <td>vhigh</td>\n",
              "      <td>vhigh</td>\n",
              "      <td>2</td>\n",
              "      <td>2</td>\n",
              "      <td>small</td>\n",
              "      <td>high</td>\n",
              "      <td>unacc</td>\n",
              "    </tr>\n",
              "    <tr>\n",
              "      <th>2</th>\n",
              "      <td>vhigh</td>\n",
              "      <td>vhigh</td>\n",
              "      <td>2</td>\n",
              "      <td>2</td>\n",
              "      <td>med</td>\n",
              "      <td>low</td>\n",
              "      <td>unacc</td>\n",
              "    </tr>\n",
              "    <tr>\n",
              "      <th>3</th>\n",
              "      <td>vhigh</td>\n",
              "      <td>vhigh</td>\n",
              "      <td>2</td>\n",
              "      <td>2</td>\n",
              "      <td>med</td>\n",
              "      <td>med</td>\n",
              "      <td>unacc</td>\n",
              "    </tr>\n",
              "    <tr>\n",
              "      <th>4</th>\n",
              "      <td>vhigh</td>\n",
              "      <td>vhigh</td>\n",
              "      <td>2</td>\n",
              "      <td>2</td>\n",
              "      <td>med</td>\n",
              "      <td>high</td>\n",
              "      <td>unacc</td>\n",
              "    </tr>\n",
              "  </tbody>\n",
              "</table>\n",
              "</div>\n",
              "      <button class=\"colab-df-convert\" onclick=\"convertToInteractive('df-3419f42e-6a38-4f33-b35f-2faae6c79337')\"\n",
              "              title=\"Convert this dataframe to an interactive table.\"\n",
              "              style=\"display:none;\">\n",
              "        \n",
              "  <svg xmlns=\"http://www.w3.org/2000/svg\" height=\"24px\"viewBox=\"0 0 24 24\"\n",
              "       width=\"24px\">\n",
              "    <path d=\"M0 0h24v24H0V0z\" fill=\"none\"/>\n",
              "    <path d=\"M18.56 5.44l.94 2.06.94-2.06 2.06-.94-2.06-.94-.94-2.06-.94 2.06-2.06.94zm-11 1L8.5 8.5l.94-2.06 2.06-.94-2.06-.94L8.5 2.5l-.94 2.06-2.06.94zm10 10l.94 2.06.94-2.06 2.06-.94-2.06-.94-.94-2.06-.94 2.06-2.06.94z\"/><path d=\"M17.41 7.96l-1.37-1.37c-.4-.4-.92-.59-1.43-.59-.52 0-1.04.2-1.43.59L10.3 9.45l-7.72 7.72c-.78.78-.78 2.05 0 2.83L4 21.41c.39.39.9.59 1.41.59.51 0 1.02-.2 1.41-.59l7.78-7.78 2.81-2.81c.8-.78.8-2.07 0-2.86zM5.41 20L4 18.59l7.72-7.72 1.47 1.35L5.41 20z\"/>\n",
              "  </svg>\n",
              "      </button>\n",
              "      \n",
              "  <style>\n",
              "    .colab-df-container {\n",
              "      display:flex;\n",
              "      flex-wrap:wrap;\n",
              "      gap: 12px;\n",
              "    }\n",
              "\n",
              "    .colab-df-convert {\n",
              "      background-color: #E8F0FE;\n",
              "      border: none;\n",
              "      border-radius: 50%;\n",
              "      cursor: pointer;\n",
              "      display: none;\n",
              "      fill: #1967D2;\n",
              "      height: 32px;\n",
              "      padding: 0 0 0 0;\n",
              "      width: 32px;\n",
              "    }\n",
              "\n",
              "    .colab-df-convert:hover {\n",
              "      background-color: #E2EBFA;\n",
              "      box-shadow: 0px 1px 2px rgba(60, 64, 67, 0.3), 0px 1px 3px 1px rgba(60, 64, 67, 0.15);\n",
              "      fill: #174EA6;\n",
              "    }\n",
              "\n",
              "    [theme=dark] .colab-df-convert {\n",
              "      background-color: #3B4455;\n",
              "      fill: #D2E3FC;\n",
              "    }\n",
              "\n",
              "    [theme=dark] .colab-df-convert:hover {\n",
              "      background-color: #434B5C;\n",
              "      box-shadow: 0px 1px 3px 1px rgba(0, 0, 0, 0.15);\n",
              "      filter: drop-shadow(0px 1px 2px rgba(0, 0, 0, 0.3));\n",
              "      fill: #FFFFFF;\n",
              "    }\n",
              "  </style>\n",
              "\n",
              "      <script>\n",
              "        const buttonEl =\n",
              "          document.querySelector('#df-3419f42e-6a38-4f33-b35f-2faae6c79337 button.colab-df-convert');\n",
              "        buttonEl.style.display =\n",
              "          google.colab.kernel.accessAllowed ? 'block' : 'none';\n",
              "\n",
              "        async function convertToInteractive(key) {\n",
              "          const element = document.querySelector('#df-3419f42e-6a38-4f33-b35f-2faae6c79337');\n",
              "          const dataTable =\n",
              "            await google.colab.kernel.invokeFunction('convertToInteractive',\n",
              "                                                     [key], {});\n",
              "          if (!dataTable) return;\n",
              "\n",
              "          const docLinkHtml = 'Like what you see? Visit the ' +\n",
              "            '<a target=\"_blank\" href=https://colab.research.google.com/notebooks/data_table.ipynb>data table notebook</a>'\n",
              "            + ' to learn more about interactive tables.';\n",
              "          element.innerHTML = '';\n",
              "          dataTable['output_type'] = 'display_data';\n",
              "          await google.colab.output.renderOutput(dataTable, element);\n",
              "          const docLink = document.createElement('div');\n",
              "          docLink.innerHTML = docLinkHtml;\n",
              "          element.appendChild(docLink);\n",
              "        }\n",
              "      </script>\n",
              "    </div>\n",
              "  </div>\n",
              "  "
            ]
          },
          "metadata": {}
        },
        {
          "output_type": "stream",
          "name": "stdout",
          "text": [
            "<class 'pandas.core.frame.DataFrame'>\n",
            "RangeIndex: 1727 entries, 0 to 1726\n",
            "Data columns (total 7 columns):\n",
            " #   Column   Non-Null Count  Dtype \n",
            "---  ------   --------------  ----- \n",
            " 0   vhigh    1727 non-null   object\n",
            " 1   vhigh.1  1727 non-null   object\n",
            " 2   2        1727 non-null   object\n",
            " 3   2.1      1727 non-null   object\n",
            " 4   small    1727 non-null   object\n",
            " 5   low      1727 non-null   object\n",
            " 6   unacc    1727 non-null   object\n",
            "dtypes: object(7)\n",
            "memory usage: 94.6+ KB\n"
          ]
        }
      ],
      "source": [
        "df = pd.read_csv('car+evaluation.csv')\n",
        "display(df.head())\n",
        "df.info()"
      ]
    },
    {
      "cell_type": "markdown",
      "metadata": {
        "ExecuteTime": {
          "end_time": "2021-11-01T17:00:14.372550Z",
          "start_time": "2021-11-01T17:00:14.369472Z"
        },
        "id": "dOYyCtsO_8dE"
      },
      "source": [
        "1.2. Набір даних не має імен стовпців. Дам наступні імена стовпцям:\n",
        "`['buying', 'maint', 'doors', 'persons', 'lug_boot', 'safety', 'class']`"
      ]
    },
    {
      "cell_type": "code",
      "execution_count": null,
      "metadata": {
        "ExecuteTime": {
          "end_time": "2021-11-01T17:00:47.250197Z",
          "start_time": "2021-11-01T17:00:47.247504Z"
        },
        "id": "w1OwW528_8dF",
        "colab": {
          "base_uri": "https://localhost:8080/",
          "height": 206
        },
        "outputId": "6062a3da-6410-489b-d15a-d27499ce5aa3"
      },
      "outputs": [
        {
          "output_type": "execute_result",
          "data": {
            "text/plain": [
              "  buying  maint doors persons lug_boot safety  class\n",
              "0  vhigh  vhigh     2       2    small    med  unacc\n",
              "1  vhigh  vhigh     2       2    small   high  unacc\n",
              "2  vhigh  vhigh     2       2      med    low  unacc\n",
              "3  vhigh  vhigh     2       2      med    med  unacc\n",
              "4  vhigh  vhigh     2       2      med   high  unacc"
            ],
            "text/html": [
              "\n",
              "  <div id=\"df-ece8ac76-d8d1-4acd-bdc9-8e761b37a571\">\n",
              "    <div class=\"colab-df-container\">\n",
              "      <div>\n",
              "<style scoped>\n",
              "    .dataframe tbody tr th:only-of-type {\n",
              "        vertical-align: middle;\n",
              "    }\n",
              "\n",
              "    .dataframe tbody tr th {\n",
              "        vertical-align: top;\n",
              "    }\n",
              "\n",
              "    .dataframe thead th {\n",
              "        text-align: right;\n",
              "    }\n",
              "</style>\n",
              "<table border=\"1\" class=\"dataframe\">\n",
              "  <thead>\n",
              "    <tr style=\"text-align: right;\">\n",
              "      <th></th>\n",
              "      <th>buying</th>\n",
              "      <th>maint</th>\n",
              "      <th>doors</th>\n",
              "      <th>persons</th>\n",
              "      <th>lug_boot</th>\n",
              "      <th>safety</th>\n",
              "      <th>class</th>\n",
              "    </tr>\n",
              "  </thead>\n",
              "  <tbody>\n",
              "    <tr>\n",
              "      <th>0</th>\n",
              "      <td>vhigh</td>\n",
              "      <td>vhigh</td>\n",
              "      <td>2</td>\n",
              "      <td>2</td>\n",
              "      <td>small</td>\n",
              "      <td>med</td>\n",
              "      <td>unacc</td>\n",
              "    </tr>\n",
              "    <tr>\n",
              "      <th>1</th>\n",
              "      <td>vhigh</td>\n",
              "      <td>vhigh</td>\n",
              "      <td>2</td>\n",
              "      <td>2</td>\n",
              "      <td>small</td>\n",
              "      <td>high</td>\n",
              "      <td>unacc</td>\n",
              "    </tr>\n",
              "    <tr>\n",
              "      <th>2</th>\n",
              "      <td>vhigh</td>\n",
              "      <td>vhigh</td>\n",
              "      <td>2</td>\n",
              "      <td>2</td>\n",
              "      <td>med</td>\n",
              "      <td>low</td>\n",
              "      <td>unacc</td>\n",
              "    </tr>\n",
              "    <tr>\n",
              "      <th>3</th>\n",
              "      <td>vhigh</td>\n",
              "      <td>vhigh</td>\n",
              "      <td>2</td>\n",
              "      <td>2</td>\n",
              "      <td>med</td>\n",
              "      <td>med</td>\n",
              "      <td>unacc</td>\n",
              "    </tr>\n",
              "    <tr>\n",
              "      <th>4</th>\n",
              "      <td>vhigh</td>\n",
              "      <td>vhigh</td>\n",
              "      <td>2</td>\n",
              "      <td>2</td>\n",
              "      <td>med</td>\n",
              "      <td>high</td>\n",
              "      <td>unacc</td>\n",
              "    </tr>\n",
              "  </tbody>\n",
              "</table>\n",
              "</div>\n",
              "      <button class=\"colab-df-convert\" onclick=\"convertToInteractive('df-ece8ac76-d8d1-4acd-bdc9-8e761b37a571')\"\n",
              "              title=\"Convert this dataframe to an interactive table.\"\n",
              "              style=\"display:none;\">\n",
              "        \n",
              "  <svg xmlns=\"http://www.w3.org/2000/svg\" height=\"24px\"viewBox=\"0 0 24 24\"\n",
              "       width=\"24px\">\n",
              "    <path d=\"M0 0h24v24H0V0z\" fill=\"none\"/>\n",
              "    <path d=\"M18.56 5.44l.94 2.06.94-2.06 2.06-.94-2.06-.94-.94-2.06-.94 2.06-2.06.94zm-11 1L8.5 8.5l.94-2.06 2.06-.94-2.06-.94L8.5 2.5l-.94 2.06-2.06.94zm10 10l.94 2.06.94-2.06 2.06-.94-2.06-.94-.94-2.06-.94 2.06-2.06.94z\"/><path d=\"M17.41 7.96l-1.37-1.37c-.4-.4-.92-.59-1.43-.59-.52 0-1.04.2-1.43.59L10.3 9.45l-7.72 7.72c-.78.78-.78 2.05 0 2.83L4 21.41c.39.39.9.59 1.41.59.51 0 1.02-.2 1.41-.59l7.78-7.78 2.81-2.81c.8-.78.8-2.07 0-2.86zM5.41 20L4 18.59l7.72-7.72 1.47 1.35L5.41 20z\"/>\n",
              "  </svg>\n",
              "      </button>\n",
              "      \n",
              "  <style>\n",
              "    .colab-df-container {\n",
              "      display:flex;\n",
              "      flex-wrap:wrap;\n",
              "      gap: 12px;\n",
              "    }\n",
              "\n",
              "    .colab-df-convert {\n",
              "      background-color: #E8F0FE;\n",
              "      border: none;\n",
              "      border-radius: 50%;\n",
              "      cursor: pointer;\n",
              "      display: none;\n",
              "      fill: #1967D2;\n",
              "      height: 32px;\n",
              "      padding: 0 0 0 0;\n",
              "      width: 32px;\n",
              "    }\n",
              "\n",
              "    .colab-df-convert:hover {\n",
              "      background-color: #E2EBFA;\n",
              "      box-shadow: 0px 1px 2px rgba(60, 64, 67, 0.3), 0px 1px 3px 1px rgba(60, 64, 67, 0.15);\n",
              "      fill: #174EA6;\n",
              "    }\n",
              "\n",
              "    [theme=dark] .colab-df-convert {\n",
              "      background-color: #3B4455;\n",
              "      fill: #D2E3FC;\n",
              "    }\n",
              "\n",
              "    [theme=dark] .colab-df-convert:hover {\n",
              "      background-color: #434B5C;\n",
              "      box-shadow: 0px 1px 3px 1px rgba(0, 0, 0, 0.15);\n",
              "      filter: drop-shadow(0px 1px 2px rgba(0, 0, 0, 0.3));\n",
              "      fill: #FFFFFF;\n",
              "    }\n",
              "  </style>\n",
              "\n",
              "      <script>\n",
              "        const buttonEl =\n",
              "          document.querySelector('#df-ece8ac76-d8d1-4acd-bdc9-8e761b37a571 button.colab-df-convert');\n",
              "        buttonEl.style.display =\n",
              "          google.colab.kernel.accessAllowed ? 'block' : 'none';\n",
              "\n",
              "        async function convertToInteractive(key) {\n",
              "          const element = document.querySelector('#df-ece8ac76-d8d1-4acd-bdc9-8e761b37a571');\n",
              "          const dataTable =\n",
              "            await google.colab.kernel.invokeFunction('convertToInteractive',\n",
              "                                                     [key], {});\n",
              "          if (!dataTable) return;\n",
              "\n",
              "          const docLinkHtml = 'Like what you see? Visit the ' +\n",
              "            '<a target=\"_blank\" href=https://colab.research.google.com/notebooks/data_table.ipynb>data table notebook</a>'\n",
              "            + ' to learn more about interactive tables.';\n",
              "          element.innerHTML = '';\n",
              "          dataTable['output_type'] = 'display_data';\n",
              "          await google.colab.output.renderOutput(dataTable, element);\n",
              "          const docLink = document.createElement('div');\n",
              "          docLink.innerHTML = docLinkHtml;\n",
              "          element.appendChild(docLink);\n",
              "        }\n",
              "      </script>\n",
              "    </div>\n",
              "  </div>\n",
              "  "
            ]
          },
          "metadata": {},
          "execution_count": 3
        }
      ],
      "source": [
        "df.columns = ['buying', 'maint', 'doors', 'persons', 'lug_boot', 'safety', 'class']\n",
        "df.head()"
      ]
    },
    {
      "cell_type": "markdown",
      "metadata": {
        "id": "fC09S27h_8dF"
      },
      "source": [
        "2. Виведу кількість зустрічей кожної з незалежних змінних програмно. "
      ]
    },
    {
      "cell_type": "code",
      "execution_count": null,
      "metadata": {
        "ExecuteTime": {
          "end_time": "2021-11-02T10:41:29.009362Z",
          "start_time": "2021-11-02T10:41:29.007023Z"
        },
        "id": "pB59W_LX_8dG",
        "colab": {
          "base_uri": "https://localhost:8080/"
        },
        "outputId": "8c7ccdbb-874c-4f16-ee93-f6e5f2531bec"
      },
      "outputs": [
        {
          "output_type": "stream",
          "name": "stdout",
          "text": [
            "high     432\n",
            "med      432\n",
            "low      432\n",
            "vhigh    431\n",
            "Name: buying, dtype: int64 \n",
            "\n",
            "high     432\n",
            "med      432\n",
            "low      432\n",
            "vhigh    431\n",
            "Name: maint, dtype: int64 \n",
            "\n",
            "3        432\n",
            "4        432\n",
            "5more    432\n",
            "2        431\n",
            "Name: doors, dtype: int64 \n",
            "\n",
            "4       576\n",
            "more    576\n",
            "2       575\n",
            "Name: persons, dtype: int64 \n",
            "\n",
            "med      576\n",
            "big      576\n",
            "small    575\n",
            "Name: lug_boot, dtype: int64 \n",
            "\n",
            "med     576\n",
            "high    576\n",
            "low     575\n",
            "Name: safety, dtype: int64 \n",
            "\n"
          ]
        }
      ],
      "source": [
        "for i in df.columns[:-1]:\n",
        "  a = df[i].value_counts()\n",
        "  print(a, '\\n')\n"
      ]
    },
    {
      "cell_type": "markdown",
      "metadata": {
        "id": "XYGCH60d_8dG"
      },
      "source": [
        "3. Виведу скільки рядків відповідають кожному із значень цільової змінної. "
      ]
    },
    {
      "cell_type": "code",
      "execution_count": null,
      "metadata": {
        "ExecuteTime": {
          "end_time": "2021-11-02T10:41:34.251989Z",
          "start_time": "2021-11-02T10:41:34.250233Z"
        },
        "id": "qnHYToWT_8dH",
        "colab": {
          "base_uri": "https://localhost:8080/"
        },
        "outputId": "51d3fbfd-951a-4b1b-98b9-5f8145fd2861"
      },
      "outputs": [
        {
          "output_type": "execute_result",
          "data": {
            "text/plain": [
              "unacc    1209\n",
              "acc       384\n",
              "good       69\n",
              "vgood      65\n",
              "Name: class, dtype: int64"
            ]
          },
          "metadata": {},
          "execution_count": 5
        }
      ],
      "source": [
        "df['class'].value_counts()"
      ]
    },
    {
      "cell_type": "markdown",
      "metadata": {
        "ExecuteTime": {
          "end_time": "2021-11-04T12:03:08.941741Z",
          "start_time": "2021-11-04T12:03:08.938107Z"
        },
        "id": "c1RpY3bm_8dH"
      },
      "source": [
        "\n",
        "\n",
        "\n",
        "> Ця змінна є ординальна, оскільки дозволяє ранжирувати об’єкти, вказавши, які з них у більшій, а які у меншій мірі мають певну якість. Але вони не можуть сказати, на скільки більше або менше. Тобто, можна сказати, що клас \"unacceptable\" характеризує найгірший клас машин, а клас \"very good\" - найкращий.\n",
        "\n",
        "> Класифікація в цьому випадку буде незбалансована, оскільки, для одного з класів маємо 1209 одиниць, а для іншого - 69. Це говорить про сильну незбалансованість класу.\n",
        "\n"
      ]
    },
    {
      "cell_type": "markdown",
      "metadata": {
        "id": "1z5WAhmK_8dH"
      },
      "source": [
        "4. Перевірю чи є відсутні значення у змінних."
      ]
    },
    {
      "cell_type": "code",
      "source": [
        "df.isnull().sum()"
      ],
      "metadata": {
        "colab": {
          "base_uri": "https://localhost:8080/"
        },
        "id": "psJqWtm5dvX3",
        "outputId": "f544e644-9bb1-4632-bbed-7c8890cc31fb"
      },
      "execution_count": null,
      "outputs": [
        {
          "output_type": "execute_result",
          "data": {
            "text/plain": [
              "buying      0\n",
              "maint       0\n",
              "doors       0\n",
              "persons     0\n",
              "lug_boot    0\n",
              "safety      0\n",
              "class       0\n",
              "dtype: int64"
            ]
          },
          "metadata": {},
          "execution_count": 6
        }
      ]
    },
    {
      "cell_type": "markdown",
      "metadata": {
        "id": "nR5bHVzS_8dI"
      },
      "source": [
        "5.1. Запишу у змінну `x` всі незалежні змінні, а у змінну `y` - цільову.\n"
      ]
    },
    {
      "cell_type": "code",
      "execution_count": null,
      "metadata": {
        "ExecuteTime": {
          "end_time": "2021-11-02T10:41:40.348802Z",
          "start_time": "2021-11-02T10:41:40.346882Z"
        },
        "id": "RRsdGwLE_8dI"
      },
      "outputs": [],
      "source": [
        "X = df[df.columns[:-1]]\n",
        "y = df[df.columns[-1]]\n"
      ]
    },
    {
      "cell_type": "markdown",
      "metadata": {
        "id": "3BcCML7__8dI"
      },
      "source": [
        "5.2. Розділю дані на тренувальну та тестову вибірки. Встановлю random_state рівним 42 та test_size рівним 0.33."
      ]
    },
    {
      "cell_type": "code",
      "execution_count": null,
      "metadata": {
        "id": "FOfdCYU2_8dI"
      },
      "outputs": [],
      "source": [
        "X_train_df, X_test_df, y_train_0, y_test_0 = train_test_split(X, y, test_size=0.33, random_state=42)\n"
      ]
    },
    {
      "cell_type": "markdown",
      "metadata": {
        "ExecuteTime": {
          "end_time": "2021-11-01T17:19:56.837872Z",
          "start_time": "2021-11-01T17:19:56.834773Z"
        },
        "id": "BIwr6cvW_8dI"
      },
      "source": [
        "5.3. Виведу форму та перші 5 записів отриманих X_train_df, X_test_df."
      ]
    },
    {
      "cell_type": "code",
      "execution_count": null,
      "metadata": {
        "ExecuteTime": {
          "end_time": "2021-11-02T10:41:48.181866Z",
          "start_time": "2021-11-02T10:41:48.180036Z"
        },
        "id": "sBi5CNtN_8dJ",
        "colab": {
          "base_uri": "https://localhost:8080/",
          "height": 448
        },
        "outputId": "21bd1031-d676-409d-8b2f-c1513de273a0"
      },
      "outputs": [
        {
          "output_type": "stream",
          "name": "stdout",
          "text": [
            "TRAIN (1157, 6)\n"
          ]
        },
        {
          "output_type": "display_data",
          "data": {
            "text/plain": [
              "     buying  maint  doors persons lug_boot safety\n",
              "83    vhigh  vhigh  5more       2      med    low\n",
              "48    vhigh  vhigh      3    more      med    med\n",
              "468    high  vhigh      3       4    small    med\n",
              "155   vhigh   high      3    more      med    low\n",
              "1043    med   high      4    more    small    low"
            ],
            "text/html": [
              "\n",
              "  <div id=\"df-a4c7104c-35ac-4504-b339-63956fbf5135\">\n",
              "    <div class=\"colab-df-container\">\n",
              "      <div>\n",
              "<style scoped>\n",
              "    .dataframe tbody tr th:only-of-type {\n",
              "        vertical-align: middle;\n",
              "    }\n",
              "\n",
              "    .dataframe tbody tr th {\n",
              "        vertical-align: top;\n",
              "    }\n",
              "\n",
              "    .dataframe thead th {\n",
              "        text-align: right;\n",
              "    }\n",
              "</style>\n",
              "<table border=\"1\" class=\"dataframe\">\n",
              "  <thead>\n",
              "    <tr style=\"text-align: right;\">\n",
              "      <th></th>\n",
              "      <th>buying</th>\n",
              "      <th>maint</th>\n",
              "      <th>doors</th>\n",
              "      <th>persons</th>\n",
              "      <th>lug_boot</th>\n",
              "      <th>safety</th>\n",
              "    </tr>\n",
              "  </thead>\n",
              "  <tbody>\n",
              "    <tr>\n",
              "      <th>83</th>\n",
              "      <td>vhigh</td>\n",
              "      <td>vhigh</td>\n",
              "      <td>5more</td>\n",
              "      <td>2</td>\n",
              "      <td>med</td>\n",
              "      <td>low</td>\n",
              "    </tr>\n",
              "    <tr>\n",
              "      <th>48</th>\n",
              "      <td>vhigh</td>\n",
              "      <td>vhigh</td>\n",
              "      <td>3</td>\n",
              "      <td>more</td>\n",
              "      <td>med</td>\n",
              "      <td>med</td>\n",
              "    </tr>\n",
              "    <tr>\n",
              "      <th>468</th>\n",
              "      <td>high</td>\n",
              "      <td>vhigh</td>\n",
              "      <td>3</td>\n",
              "      <td>4</td>\n",
              "      <td>small</td>\n",
              "      <td>med</td>\n",
              "    </tr>\n",
              "    <tr>\n",
              "      <th>155</th>\n",
              "      <td>vhigh</td>\n",
              "      <td>high</td>\n",
              "      <td>3</td>\n",
              "      <td>more</td>\n",
              "      <td>med</td>\n",
              "      <td>low</td>\n",
              "    </tr>\n",
              "    <tr>\n",
              "      <th>1043</th>\n",
              "      <td>med</td>\n",
              "      <td>high</td>\n",
              "      <td>4</td>\n",
              "      <td>more</td>\n",
              "      <td>small</td>\n",
              "      <td>low</td>\n",
              "    </tr>\n",
              "  </tbody>\n",
              "</table>\n",
              "</div>\n",
              "      <button class=\"colab-df-convert\" onclick=\"convertToInteractive('df-a4c7104c-35ac-4504-b339-63956fbf5135')\"\n",
              "              title=\"Convert this dataframe to an interactive table.\"\n",
              "              style=\"display:none;\">\n",
              "        \n",
              "  <svg xmlns=\"http://www.w3.org/2000/svg\" height=\"24px\"viewBox=\"0 0 24 24\"\n",
              "       width=\"24px\">\n",
              "    <path d=\"M0 0h24v24H0V0z\" fill=\"none\"/>\n",
              "    <path d=\"M18.56 5.44l.94 2.06.94-2.06 2.06-.94-2.06-.94-.94-2.06-.94 2.06-2.06.94zm-11 1L8.5 8.5l.94-2.06 2.06-.94-2.06-.94L8.5 2.5l-.94 2.06-2.06.94zm10 10l.94 2.06.94-2.06 2.06-.94-2.06-.94-.94-2.06-.94 2.06-2.06.94z\"/><path d=\"M17.41 7.96l-1.37-1.37c-.4-.4-.92-.59-1.43-.59-.52 0-1.04.2-1.43.59L10.3 9.45l-7.72 7.72c-.78.78-.78 2.05 0 2.83L4 21.41c.39.39.9.59 1.41.59.51 0 1.02-.2 1.41-.59l7.78-7.78 2.81-2.81c.8-.78.8-2.07 0-2.86zM5.41 20L4 18.59l7.72-7.72 1.47 1.35L5.41 20z\"/>\n",
              "  </svg>\n",
              "      </button>\n",
              "      \n",
              "  <style>\n",
              "    .colab-df-container {\n",
              "      display:flex;\n",
              "      flex-wrap:wrap;\n",
              "      gap: 12px;\n",
              "    }\n",
              "\n",
              "    .colab-df-convert {\n",
              "      background-color: #E8F0FE;\n",
              "      border: none;\n",
              "      border-radius: 50%;\n",
              "      cursor: pointer;\n",
              "      display: none;\n",
              "      fill: #1967D2;\n",
              "      height: 32px;\n",
              "      padding: 0 0 0 0;\n",
              "      width: 32px;\n",
              "    }\n",
              "\n",
              "    .colab-df-convert:hover {\n",
              "      background-color: #E2EBFA;\n",
              "      box-shadow: 0px 1px 2px rgba(60, 64, 67, 0.3), 0px 1px 3px 1px rgba(60, 64, 67, 0.15);\n",
              "      fill: #174EA6;\n",
              "    }\n",
              "\n",
              "    [theme=dark] .colab-df-convert {\n",
              "      background-color: #3B4455;\n",
              "      fill: #D2E3FC;\n",
              "    }\n",
              "\n",
              "    [theme=dark] .colab-df-convert:hover {\n",
              "      background-color: #434B5C;\n",
              "      box-shadow: 0px 1px 3px 1px rgba(0, 0, 0, 0.15);\n",
              "      filter: drop-shadow(0px 1px 2px rgba(0, 0, 0, 0.3));\n",
              "      fill: #FFFFFF;\n",
              "    }\n",
              "  </style>\n",
              "\n",
              "      <script>\n",
              "        const buttonEl =\n",
              "          document.querySelector('#df-a4c7104c-35ac-4504-b339-63956fbf5135 button.colab-df-convert');\n",
              "        buttonEl.style.display =\n",
              "          google.colab.kernel.accessAllowed ? 'block' : 'none';\n",
              "\n",
              "        async function convertToInteractive(key) {\n",
              "          const element = document.querySelector('#df-a4c7104c-35ac-4504-b339-63956fbf5135');\n",
              "          const dataTable =\n",
              "            await google.colab.kernel.invokeFunction('convertToInteractive',\n",
              "                                                     [key], {});\n",
              "          if (!dataTable) return;\n",
              "\n",
              "          const docLinkHtml = 'Like what you see? Visit the ' +\n",
              "            '<a target=\"_blank\" href=https://colab.research.google.com/notebooks/data_table.ipynb>data table notebook</a>'\n",
              "            + ' to learn more about interactive tables.';\n",
              "          element.innerHTML = '';\n",
              "          dataTable['output_type'] = 'display_data';\n",
              "          await google.colab.output.renderOutput(dataTable, element);\n",
              "          const docLink = document.createElement('div');\n",
              "          docLink.innerHTML = docLinkHtml;\n",
              "          element.appendChild(docLink);\n",
              "        }\n",
              "      </script>\n",
              "    </div>\n",
              "  </div>\n",
              "  "
            ]
          },
          "metadata": {}
        },
        {
          "output_type": "stream",
          "name": "stdout",
          "text": [
            "\n",
            " TEST (570, 6)\n"
          ]
        },
        {
          "output_type": "execute_result",
          "data": {
            "text/plain": [
              "     buying  maint  doors persons lug_boot safety\n",
              "599    high   high      4       2      big    low\n",
              "932     med  vhigh      4       4      big    low\n",
              "628    high   high  5more       2      big   high\n",
              "1497    low   high  5more       4      med    med\n",
              "1262    med    low      4    more      med    low"
            ],
            "text/html": [
              "\n",
              "  <div id=\"df-dbc1ef13-4354-4763-ab40-55febffd1209\">\n",
              "    <div class=\"colab-df-container\">\n",
              "      <div>\n",
              "<style scoped>\n",
              "    .dataframe tbody tr th:only-of-type {\n",
              "        vertical-align: middle;\n",
              "    }\n",
              "\n",
              "    .dataframe tbody tr th {\n",
              "        vertical-align: top;\n",
              "    }\n",
              "\n",
              "    .dataframe thead th {\n",
              "        text-align: right;\n",
              "    }\n",
              "</style>\n",
              "<table border=\"1\" class=\"dataframe\">\n",
              "  <thead>\n",
              "    <tr style=\"text-align: right;\">\n",
              "      <th></th>\n",
              "      <th>buying</th>\n",
              "      <th>maint</th>\n",
              "      <th>doors</th>\n",
              "      <th>persons</th>\n",
              "      <th>lug_boot</th>\n",
              "      <th>safety</th>\n",
              "    </tr>\n",
              "  </thead>\n",
              "  <tbody>\n",
              "    <tr>\n",
              "      <th>599</th>\n",
              "      <td>high</td>\n",
              "      <td>high</td>\n",
              "      <td>4</td>\n",
              "      <td>2</td>\n",
              "      <td>big</td>\n",
              "      <td>low</td>\n",
              "    </tr>\n",
              "    <tr>\n",
              "      <th>932</th>\n",
              "      <td>med</td>\n",
              "      <td>vhigh</td>\n",
              "      <td>4</td>\n",
              "      <td>4</td>\n",
              "      <td>big</td>\n",
              "      <td>low</td>\n",
              "    </tr>\n",
              "    <tr>\n",
              "      <th>628</th>\n",
              "      <td>high</td>\n",
              "      <td>high</td>\n",
              "      <td>5more</td>\n",
              "      <td>2</td>\n",
              "      <td>big</td>\n",
              "      <td>high</td>\n",
              "    </tr>\n",
              "    <tr>\n",
              "      <th>1497</th>\n",
              "      <td>low</td>\n",
              "      <td>high</td>\n",
              "      <td>5more</td>\n",
              "      <td>4</td>\n",
              "      <td>med</td>\n",
              "      <td>med</td>\n",
              "    </tr>\n",
              "    <tr>\n",
              "      <th>1262</th>\n",
              "      <td>med</td>\n",
              "      <td>low</td>\n",
              "      <td>4</td>\n",
              "      <td>more</td>\n",
              "      <td>med</td>\n",
              "      <td>low</td>\n",
              "    </tr>\n",
              "  </tbody>\n",
              "</table>\n",
              "</div>\n",
              "      <button class=\"colab-df-convert\" onclick=\"convertToInteractive('df-dbc1ef13-4354-4763-ab40-55febffd1209')\"\n",
              "              title=\"Convert this dataframe to an interactive table.\"\n",
              "              style=\"display:none;\">\n",
              "        \n",
              "  <svg xmlns=\"http://www.w3.org/2000/svg\" height=\"24px\"viewBox=\"0 0 24 24\"\n",
              "       width=\"24px\">\n",
              "    <path d=\"M0 0h24v24H0V0z\" fill=\"none\"/>\n",
              "    <path d=\"M18.56 5.44l.94 2.06.94-2.06 2.06-.94-2.06-.94-.94-2.06-.94 2.06-2.06.94zm-11 1L8.5 8.5l.94-2.06 2.06-.94-2.06-.94L8.5 2.5l-.94 2.06-2.06.94zm10 10l.94 2.06.94-2.06 2.06-.94-2.06-.94-.94-2.06-.94 2.06-2.06.94z\"/><path d=\"M17.41 7.96l-1.37-1.37c-.4-.4-.92-.59-1.43-.59-.52 0-1.04.2-1.43.59L10.3 9.45l-7.72 7.72c-.78.78-.78 2.05 0 2.83L4 21.41c.39.39.9.59 1.41.59.51 0 1.02-.2 1.41-.59l7.78-7.78 2.81-2.81c.8-.78.8-2.07 0-2.86zM5.41 20L4 18.59l7.72-7.72 1.47 1.35L5.41 20z\"/>\n",
              "  </svg>\n",
              "      </button>\n",
              "      \n",
              "  <style>\n",
              "    .colab-df-container {\n",
              "      display:flex;\n",
              "      flex-wrap:wrap;\n",
              "      gap: 12px;\n",
              "    }\n",
              "\n",
              "    .colab-df-convert {\n",
              "      background-color: #E8F0FE;\n",
              "      border: none;\n",
              "      border-radius: 50%;\n",
              "      cursor: pointer;\n",
              "      display: none;\n",
              "      fill: #1967D2;\n",
              "      height: 32px;\n",
              "      padding: 0 0 0 0;\n",
              "      width: 32px;\n",
              "    }\n",
              "\n",
              "    .colab-df-convert:hover {\n",
              "      background-color: #E2EBFA;\n",
              "      box-shadow: 0px 1px 2px rgba(60, 64, 67, 0.3), 0px 1px 3px 1px rgba(60, 64, 67, 0.15);\n",
              "      fill: #174EA6;\n",
              "    }\n",
              "\n",
              "    [theme=dark] .colab-df-convert {\n",
              "      background-color: #3B4455;\n",
              "      fill: #D2E3FC;\n",
              "    }\n",
              "\n",
              "    [theme=dark] .colab-df-convert:hover {\n",
              "      background-color: #434B5C;\n",
              "      box-shadow: 0px 1px 3px 1px rgba(0, 0, 0, 0.15);\n",
              "      filter: drop-shadow(0px 1px 2px rgba(0, 0, 0, 0.3));\n",
              "      fill: #FFFFFF;\n",
              "    }\n",
              "  </style>\n",
              "\n",
              "      <script>\n",
              "        const buttonEl =\n",
              "          document.querySelector('#df-dbc1ef13-4354-4763-ab40-55febffd1209 button.colab-df-convert');\n",
              "        buttonEl.style.display =\n",
              "          google.colab.kernel.accessAllowed ? 'block' : 'none';\n",
              "\n",
              "        async function convertToInteractive(key) {\n",
              "          const element = document.querySelector('#df-dbc1ef13-4354-4763-ab40-55febffd1209');\n",
              "          const dataTable =\n",
              "            await google.colab.kernel.invokeFunction('convertToInteractive',\n",
              "                                                     [key], {});\n",
              "          if (!dataTable) return;\n",
              "\n",
              "          const docLinkHtml = 'Like what you see? Visit the ' +\n",
              "            '<a target=\"_blank\" href=https://colab.research.google.com/notebooks/data_table.ipynb>data table notebook</a>'\n",
              "            + ' to learn more about interactive tables.';\n",
              "          element.innerHTML = '';\n",
              "          dataTable['output_type'] = 'display_data';\n",
              "          await google.colab.output.renderOutput(dataTable, element);\n",
              "          const docLink = document.createElement('div');\n",
              "          docLink.innerHTML = docLinkHtml;\n",
              "          element.appendChild(docLink);\n",
              "        }\n",
              "      </script>\n",
              "    </div>\n",
              "  </div>\n",
              "  "
            ]
          },
          "metadata": {},
          "execution_count": 9
        }
      ],
      "source": [
        "print('TRAIN',X_train_df.shape)\n",
        "display(X_train_df.head())\n",
        "print('\\n','TEST', X_test_df.shape)\n",
        "X_test_df.head()"
      ]
    },
    {
      "cell_type": "markdown",
      "metadata": {
        "id": "X_nRBFLX_8dJ"
      },
      "source": [
        "6.1. Виведу типи даних усіх змінних у X_train."
      ]
    },
    {
      "cell_type": "code",
      "execution_count": null,
      "metadata": {
        "ExecuteTime": {
          "end_time": "2021-11-02T10:41:54.131896Z",
          "start_time": "2021-11-02T10:41:54.130012Z"
        },
        "id": "J3wA26SC_8dJ",
        "colab": {
          "base_uri": "https://localhost:8080/"
        },
        "outputId": "4e0ee37b-4fe6-4fd2-aa3f-10f3d3189596"
      },
      "outputs": [
        {
          "output_type": "execute_result",
          "data": {
            "text/plain": [
              "buying      object\n",
              "maint       object\n",
              "doors       object\n",
              "persons     object\n",
              "lug_boot    object\n",
              "safety      object\n",
              "dtype: object"
            ]
          },
          "metadata": {},
          "execution_count": 10
        }
      ],
      "source": [
        "X_train_df.dtypes"
      ]
    },
    {
      "cell_type": "markdown",
      "metadata": {
        "id": "t0IBq3Lw_8dJ"
      },
      "source": [
        "6.2. Застосую енкодер на трен. та тест. даних з використанням бібліотеки  sklearn.preprocessing.\n"
      ]
    },
    {
      "cell_type": "code",
      "execution_count": null,
      "metadata": {
        "ExecuteTime": {
          "end_time": "2021-11-02T10:42:04.208460Z",
          "start_time": "2021-11-02T10:42:04.206067Z"
        },
        "id": "XB8AKT3M_8dJ"
      },
      "outputs": [],
      "source": [
        "\n",
        "buying_categories = ['low', 'med', 'high', 'vhigh']\n",
        "maint_categories = ['low', 'med', 'high', 'vhigh']\n",
        "doors_categories = ['2', '3', '4', '5more']\n",
        "persons_categories = ['2', '3', '4','more']\n",
        "lug_but_categories = ['small','med', 'big']\n",
        "safety_categories = ['low', 'med', 'high']\n",
        "cl_names = ['unacc', 'acc', 'good','vgood']\n",
        "\n",
        "encoder = OrdinalEncoder(categories=[buying_categories, maint_categories,doors_categories,\n",
        "                                     persons_categories,lug_but_categories,safety_categories])\n",
        "encoder.fit(X_train_df)\n",
        "X_train = encoder.transform(X_train_df)\n",
        "X_test = encoder.transform(X_test_df)\n",
        "\n",
        "encoder_turget = OrdinalEncoder(categories=[cl_names])\n",
        "encoder_turget.fit(y_train_0.values.reshape(-1,1))\n",
        "y_train = encoder_turget.transform(y_train_0.values.reshape(-1,1))\n",
        "y_test= encoder_turget.transform(y_test_0.values.reshape(-1,1))\n"
      ]
    },
    {
      "cell_type": "markdown",
      "metadata": {
        "id": "yl5tu1xd_8dJ"
      },
      "source": [
        "6.3. Виведу перші 5 записів X_train, X_test."
      ]
    },
    {
      "cell_type": "code",
      "execution_count": null,
      "metadata": {
        "ExecuteTime": {
          "end_time": "2021-11-02T10:42:07.742802Z",
          "start_time": "2021-11-02T10:42:07.740645Z"
        },
        "id": "VU4GVsIU_8dJ",
        "colab": {
          "base_uri": "https://localhost:8080/"
        },
        "outputId": "bc9caef4-3eb9-4a9d-e4f2-75b09d3f8eed"
      },
      "outputs": [
        {
          "output_type": "stream",
          "name": "stdout",
          "text": [
            "encoder_train: \n",
            " [[3. 3. 3. 0. 1. 0.]\n",
            " [3. 3. 1. 3. 1. 1.]\n",
            " [2. 3. 1. 2. 0. 1.]\n",
            " [3. 2. 1. 3. 1. 0.]\n",
            " [1. 2. 2. 3. 0. 0.]] \n",
            "\n",
            "encoder_test: \n",
            " [[2. 2. 2. 0. 2. 0.]\n",
            " [1. 3. 2. 2. 2. 0.]\n",
            " [2. 2. 3. 0. 2. 2.]\n",
            " [0. 2. 3. 2. 1. 1.]\n",
            " [1. 0. 2. 3. 1. 0.]]\n"
          ]
        }
      ],
      "source": [
        "print('encoder_train:','\\n', X_train[:5], '\\n')\n",
        "print('encoder_test:', '\\n', X_test[:5])\n"
      ]
    },
    {
      "cell_type": "markdown",
      "metadata": {
        "id": "o4WHM6TU_8dJ"
      },
      "source": [
        "6.4. Виведу отримані категорії енкодера."
      ]
    },
    {
      "cell_type": "code",
      "execution_count": null,
      "metadata": {
        "ExecuteTime": {
          "end_time": "2021-11-02T10:42:10.104216Z",
          "start_time": "2021-11-02T10:42:10.102336Z"
        },
        "id": "bW4tzGHg_8dK",
        "colab": {
          "base_uri": "https://localhost:8080/"
        },
        "outputId": "b861f49c-a31a-4afe-b232-79c9af54be7e"
      },
      "outputs": [
        {
          "output_type": "stream",
          "name": "stdout",
          "text": [
            "[array(['low', 'med', 'high', 'vhigh'], dtype=object), array(['low', 'med', 'high', 'vhigh'], dtype=object), array(['2', '3', '4', '5more'], dtype=object), array(['2', '3', '4', 'more'], dtype=object), array(['small', 'med', 'big'], dtype=object), array(['low', 'med', 'high'], dtype=object)]\n",
            "[array(['unacc', 'acc', 'good', 'vgood'], dtype=object)]\n"
          ]
        }
      ],
      "source": [
        "print(encoder.categories_)\n",
        "print(encoder_turget.categories_)"
      ]
    },
    {
      "cell_type": "markdown",
      "metadata": {
        "id": "c76B_glz_8dK"
      },
      "source": [
        "7.1. Проведу навчання логістичної регресії на отриманих даних.  Встановлю random_state=42, а  інші параметрами залишу за замовчуванням."
      ]
    },
    {
      "cell_type": "code",
      "execution_count": null,
      "metadata": {
        "ExecuteTime": {
          "end_time": "2021-11-02T10:42:12.074365Z",
          "start_time": "2021-11-02T10:42:12.072038Z"
        },
        "id": "ouP81741_8dK",
        "colab": {
          "base_uri": "https://localhost:8080/",
          "height": 52
        },
        "outputId": "7bfb8f48-bd78-44fb-ba5e-ff4cb36a8498"
      },
      "outputs": [
        {
          "output_type": "execute_result",
          "data": {
            "text/plain": [
              "LogisticRegression(random_state=42)"
            ],
            "text/html": [
              "<style>#sk-container-id-1 {color: black;background-color: white;}#sk-container-id-1 pre{padding: 0;}#sk-container-id-1 div.sk-toggleable {background-color: white;}#sk-container-id-1 label.sk-toggleable__label {cursor: pointer;display: block;width: 100%;margin-bottom: 0;padding: 0.3em;box-sizing: border-box;text-align: center;}#sk-container-id-1 label.sk-toggleable__label-arrow:before {content: \"▸\";float: left;margin-right: 0.25em;color: #696969;}#sk-container-id-1 label.sk-toggleable__label-arrow:hover:before {color: black;}#sk-container-id-1 div.sk-estimator:hover label.sk-toggleable__label-arrow:before {color: black;}#sk-container-id-1 div.sk-toggleable__content {max-height: 0;max-width: 0;overflow: hidden;text-align: left;background-color: #f0f8ff;}#sk-container-id-1 div.sk-toggleable__content pre {margin: 0.2em;color: black;border-radius: 0.25em;background-color: #f0f8ff;}#sk-container-id-1 input.sk-toggleable__control:checked~div.sk-toggleable__content {max-height: 200px;max-width: 100%;overflow: auto;}#sk-container-id-1 input.sk-toggleable__control:checked~label.sk-toggleable__label-arrow:before {content: \"▾\";}#sk-container-id-1 div.sk-estimator input.sk-toggleable__control:checked~label.sk-toggleable__label {background-color: #d4ebff;}#sk-container-id-1 div.sk-label input.sk-toggleable__control:checked~label.sk-toggleable__label {background-color: #d4ebff;}#sk-container-id-1 input.sk-hidden--visually {border: 0;clip: rect(1px 1px 1px 1px);clip: rect(1px, 1px, 1px, 1px);height: 1px;margin: -1px;overflow: hidden;padding: 0;position: absolute;width: 1px;}#sk-container-id-1 div.sk-estimator {font-family: monospace;background-color: #f0f8ff;border: 1px dotted black;border-radius: 0.25em;box-sizing: border-box;margin-bottom: 0.5em;}#sk-container-id-1 div.sk-estimator:hover {background-color: #d4ebff;}#sk-container-id-1 div.sk-parallel-item::after {content: \"\";width: 100%;border-bottom: 1px solid gray;flex-grow: 1;}#sk-container-id-1 div.sk-label:hover label.sk-toggleable__label {background-color: #d4ebff;}#sk-container-id-1 div.sk-serial::before {content: \"\";position: absolute;border-left: 1px solid gray;box-sizing: border-box;top: 0;bottom: 0;left: 50%;z-index: 0;}#sk-container-id-1 div.sk-serial {display: flex;flex-direction: column;align-items: center;background-color: white;padding-right: 0.2em;padding-left: 0.2em;position: relative;}#sk-container-id-1 div.sk-item {position: relative;z-index: 1;}#sk-container-id-1 div.sk-parallel {display: flex;align-items: stretch;justify-content: center;background-color: white;position: relative;}#sk-container-id-1 div.sk-item::before, #sk-container-id-1 div.sk-parallel-item::before {content: \"\";position: absolute;border-left: 1px solid gray;box-sizing: border-box;top: 0;bottom: 0;left: 50%;z-index: -1;}#sk-container-id-1 div.sk-parallel-item {display: flex;flex-direction: column;z-index: 1;position: relative;background-color: white;}#sk-container-id-1 div.sk-parallel-item:first-child::after {align-self: flex-end;width: 50%;}#sk-container-id-1 div.sk-parallel-item:last-child::after {align-self: flex-start;width: 50%;}#sk-container-id-1 div.sk-parallel-item:only-child::after {width: 0;}#sk-container-id-1 div.sk-dashed-wrapped {border: 1px dashed gray;margin: 0 0.4em 0.5em 0.4em;box-sizing: border-box;padding-bottom: 0.4em;background-color: white;}#sk-container-id-1 div.sk-label label {font-family: monospace;font-weight: bold;display: inline-block;line-height: 1.2em;}#sk-container-id-1 div.sk-label-container {text-align: center;}#sk-container-id-1 div.sk-container {/* jupyter's `normalize.less` sets `[hidden] { display: none; }` but bootstrap.min.css set `[hidden] { display: none !important; }` so we also need the `!important` here to be able to override the default hidden behavior on the sphinx rendered scikit-learn.org. See: https://github.com/scikit-learn/scikit-learn/issues/21755 */display: inline-block !important;position: relative;}#sk-container-id-1 div.sk-text-repr-fallback {display: none;}</style><div id=\"sk-container-id-1\" class=\"sk-top-container\"><div class=\"sk-text-repr-fallback\"><pre>LogisticRegression(random_state=42)</pre><b>In a Jupyter environment, please rerun this cell to show the HTML representation or trust the notebook. <br />On GitHub, the HTML representation is unable to render, please try loading this page with nbviewer.org.</b></div><div class=\"sk-container\" hidden><div class=\"sk-item\"><div class=\"sk-estimator sk-toggleable\"><input class=\"sk-toggleable__control sk-hidden--visually\" id=\"sk-estimator-id-1\" type=\"checkbox\" checked><label for=\"sk-estimator-id-1\" class=\"sk-toggleable__label sk-toggleable__label-arrow\">LogisticRegression</label><div class=\"sk-toggleable__content\"><pre>LogisticRegression(random_state=42)</pre></div></div></div></div></div>"
            ]
          },
          "metadata": {},
          "execution_count": 13
        }
      ],
      "source": [
        "log_regr_model = LogisticRegression(random_state=42)\n",
        "log_regr_model.fit(X_train, y_train)\n"
      ]
    },
    {
      "cell_type": "markdown",
      "metadata": {
        "id": "OM7uglow_8dK"
      },
      "source": [
        "7.2. Зроблю прогнози за допомогою отриманої моделі і методу predict. "
      ]
    },
    {
      "cell_type": "code",
      "execution_count": null,
      "metadata": {
        "ExecuteTime": {
          "end_time": "2021-11-02T10:42:13.814321Z",
          "start_time": "2021-11-02T10:42:13.812352Z"
        },
        "id": "XjGKlSUm_8dK"
      },
      "outputs": [],
      "source": [
        "y_pred_test = log_regr_model.predict(X_test)\n",
        "y_pred_train = log_regr_model.predict(X_train)"
      ]
    },
    {
      "cell_type": "markdown",
      "metadata": {
        "id": "2LU_2E4N_8dK"
      },
      "source": [
        "7.3. Виведу метрики якості за допомогою classification_report."
      ]
    },
    {
      "cell_type": "code",
      "execution_count": null,
      "metadata": {
        "ExecuteTime": {
          "end_time": "2021-11-02T10:42:16.537869Z",
          "start_time": "2021-11-02T10:42:16.536060Z"
        },
        "id": "sPIN3yz5_8dK",
        "colab": {
          "base_uri": "https://localhost:8080/"
        },
        "outputId": "f4828ac9-a0b7-42c4-f8cf-8d03db98af39"
      },
      "outputs": [
        {
          "output_type": "stream",
          "name": "stdout",
          "text": [
            "              precision    recall  f1-score   support\n",
            "\n",
            "         0.0       0.90      0.94      0.92       810\n",
            "         1.0       0.70      0.65      0.67       257\n",
            "         2.0       0.64      0.49      0.56        51\n",
            "         3.0       0.85      0.74      0.79        39\n",
            "\n",
            "    accuracy                           0.85      1157\n",
            "   macro avg       0.77      0.71      0.74      1157\n",
            "weighted avg       0.84      0.85      0.84      1157\n",
            "\n",
            "              precision    recall  f1-score   support\n",
            "\n",
            "         0.0       0.91      0.94      0.93       399\n",
            "         1.0       0.71      0.68      0.69       127\n",
            "         2.0       0.55      0.33      0.41        18\n",
            "         3.0       0.84      0.81      0.82        26\n",
            "\n",
            "    accuracy                           0.86       570\n",
            "   macro avg       0.75      0.69      0.71       570\n",
            "weighted avg       0.85      0.86      0.86       570\n",
            "\n"
          ]
        }
      ],
      "source": [
        "print(classification_report(y_train, y_pred_train))\n",
        "print(classification_report(y_test, y_pred_test))"
      ]
    },
    {
      "cell_type": "markdown",
      "metadata": {
        "ExecuteTime": {
          "end_time": "2021-11-02T10:19:26.083395Z",
          "start_time": "2021-11-02T10:19:25.977243Z"
        },
        "id": "7uE4hylM_8dK"
      },
      "source": [
        "Для порівняння різних моделей та вибору найкращої з них я використовуватиму метрику f1-score. Оскільки, ця метрика допомагає збалансувати два показники: precision і recall. Адже  важливо не лише дізнатися частку визначених правильно класів серед наших передбачень, але й частку правильно визначених значень з усієї множини елементів, які належать до даного класу."
      ]
    },
    {
      "cell_type": "markdown",
      "metadata": {
        "id": "6emnYpCo_8dK"
      },
      "source": [
        "8.1. Використовуючи ті самі дані проведу навчання моделі дерева рішень з допомогою sklearn.tree (встановлю параметр глибини 4). Обчислю прогнози і порахую метрику якості на test даних. "
      ]
    },
    {
      "cell_type": "code",
      "execution_count": null,
      "metadata": {
        "ExecuteTime": {
          "end_time": "2021-11-02T10:42:18.685868Z",
          "start_time": "2021-11-02T10:42:18.684017Z"
        },
        "id": "3xVV9p_3_8dK",
        "colab": {
          "base_uri": "https://localhost:8080/"
        },
        "outputId": "c91ac808-5769-4ac9-9bdf-11ffd8a4080c"
      },
      "outputs": [
        {
          "output_type": "stream",
          "name": "stdout",
          "text": [
            "              precision    recall  f1-score   support\n",
            "\n",
            "         0.0       0.96      0.94      0.95       399\n",
            "         1.0       0.75      0.72      0.74       127\n",
            "         2.0       0.31      1.00      0.47        18\n",
            "         3.0       0.00      0.00      0.00        26\n",
            "\n",
            "    accuracy                           0.85       570\n",
            "   macro avg       0.51      0.67      0.54       570\n",
            "weighted avg       0.85      0.85      0.84       570\n",
            "\n"
          ]
        }
      ],
      "source": [
        "decis_tree_model = tree.DecisionTreeClassifier(max_depth=4)\n",
        "decis_tree_model.fit(X_train, y_train)\n",
        "decis_y_pred = decis_tree_model.predict(X_test)\n",
        "\n",
        "print(classification_report(y_test, decis_y_pred))"
      ]
    },
    {
      "cell_type": "markdown",
      "metadata": {
        "ExecuteTime": {
          "end_time": "2021-11-02T10:23:07.523939Z",
          "start_time": "2021-11-02T10:23:07.499537Z"
        },
        "id": "yVzm_wFk_8dK"
      },
      "source": [
        "8.2. Виведу параметри моделі Decision Tree."
      ]
    },
    {
      "cell_type": "code",
      "execution_count": null,
      "metadata": {
        "ExecuteTime": {
          "end_time": "2021-11-02T10:43:00.942076Z",
          "start_time": "2021-11-02T10:43:00.939966Z"
        },
        "id": "ertJP0is_8dL",
        "colab": {
          "base_uri": "https://localhost:8080/"
        },
        "outputId": "6badd257-2c43-4c25-f46d-f99803f33a97"
      },
      "outputs": [
        {
          "output_type": "execute_result",
          "data": {
            "text/plain": [
              "{'ccp_alpha': 0.0,\n",
              " 'class_weight': None,\n",
              " 'criterion': 'gini',\n",
              " 'max_depth': 4,\n",
              " 'max_features': None,\n",
              " 'max_leaf_nodes': None,\n",
              " 'min_impurity_decrease': 0.0,\n",
              " 'min_samples_leaf': 1,\n",
              " 'min_samples_split': 2,\n",
              " 'min_weight_fraction_leaf': 0.0,\n",
              " 'random_state': None,\n",
              " 'splitter': 'best'}"
            ]
          },
          "metadata": {},
          "execution_count": 17
        }
      ],
      "source": [
        "decis_tree_model.get_params()"
      ]
    },
    {
      "cell_type": "markdown",
      "metadata": {
        "id": "Kdsxbnu__8dL"
      },
      "source": [
        "8.3. Візуалізація отриманого дерева рішень."
      ]
    },
    {
      "cell_type": "code",
      "execution_count": null,
      "metadata": {
        "ExecuteTime": {
          "end_time": "2021-11-02T10:43:03.265981Z",
          "start_time": "2021-11-02T10:43:03.264154Z"
        },
        "id": "l4semDU8_8dL",
        "colab": {
          "base_uri": "https://localhost:8080/",
          "height": 683
        },
        "outputId": "58d0c84c-39fd-4208-a176-b8a81a0cabae"
      },
      "outputs": [
        {
          "output_type": "display_data",
          "data": {
            "text/plain": [
              "<Figure size 864x864 with 1 Axes>"
            ],
            "image/png": "[encoded data removed]"
          },
          "metadata": {
            "needs_background": "light"
          }
        }
      ],
      "source": [
        "plt.figure(figsize=(12,12))\n",
        "tree.plot_tree(decis_tree_model, fontsize=10)\n",
        "plt.show()"
      ]
    },
    {
      "cell_type": "code",
      "source": [
        "dot_data = tree.export_graphviz(decis_tree_model, \n",
        "                     out_file=None, \n",
        "                     feature_names=df.columns[:-1],  \n",
        "                     class_names=['unacc', 'acc', 'good','vgood'],  \n",
        "                     filled=True, rounded=True,  \n",
        "                     special_characters=True)  \n",
        "graph = graphviz.Source(dot_data)\n",
        "graph"
      ],
      "metadata": {
        "colab": {
          "base_uri": "https://localhost:8080/",
          "height": 758
        },
        "id": "bk0dN8MyfO59",
        "outputId": "9926acb5-db1a-47ba-d96e-879629bb6b5c"
      },
      "execution_count": null,
      "outputs": [
        {
          "output_type": "execute_result",
          "data": {
            "text/plain": [
              "<graphviz.files.Source at 0x7f795c202040>"
            ],
            "image/svg+xml": "<?xml version=\"1.0\" encoding=\"UTF-8\" standalone=\"no\"?>\n<!DOCTYPE svg PUBLIC \"-//W3C//DTD SVG 1.1//EN\"\n \"http://www.w3.org/Graphics/SVG/1.1/DTD/svg11.dtd\">\n<!-- Generated by graphviz version 2.43.0 (0)\n -->\n<!-- Title: Tree Pages: 1 -->\n<svg width=\"662pt\" height=\"552pt\"\n viewBox=\"0.00 0.00 661.50 552.00\" xmlns=\"http://www.w3.org/2000/svg\" xmlns:xlink=\"http://www.w3.org/1999/xlink\">\n<g id=\"graph0\" class=\"graph\" transform=\"scale(1 1) rotate(0) translate(4 548)\">\n<title>Tree</title>\n<polygon fill=\"white\" stroke=\"transparent\" points=\"-4,4 -4,-548 657.5,-548 657.5,4 -4,4\"/>\n<!-- 0 -->\n<g id=\"node1\" class=\"node\">\n<title>0</title>\n<path fill=\"#efb285\" stroke=\"black\" d=\"M229,-544C229,-544 83,-544 83,-544 77,-544 71,-538 71,-532 71,-532 71,-473 71,-473 71,-467 77,-461 83,-461 83,-461 229,-461 229,-461 235,-461 241,-467 241,-473 241,-473 241,-532 241,-532 241,-538 235,-544 229,-544\"/>\n<text text-anchor=\"start\" x=\"121\" y=\"-528.8\" font-family=\"Helvetica,sans-Serif\" font-size=\"14.00\">safety ≤ 0.5</text>\n<text text-anchor=\"start\" x=\"120.5\" y=\"-513.8\" font-family=\"Helvetica,sans-Serif\" font-size=\"14.00\">gini = 0.457</text>\n<text text-anchor=\"start\" x=\"107.5\" y=\"-498.8\" font-family=\"Helvetica,sans-Serif\" font-size=\"14.00\">samples = 1157</text>\n<text text-anchor=\"start\" x=\"79\" y=\"-483.8\" font-family=\"Helvetica,sans-Serif\" font-size=\"14.00\">value = [810, 257, 51, 39]</text>\n<text text-anchor=\"start\" x=\"114.5\" y=\"-468.8\" font-family=\"Helvetica,sans-Serif\" font-size=\"14.00\">class = unacc</text>\n</g>\n<!-- 1 -->\n<g id=\"node2\" class=\"node\">\n<title>1</title>\n<path fill=\"#e58139\" stroke=\"black\" d=\"M128,-417.5C128,-417.5 12,-417.5 12,-417.5 6,-417.5 0,-411.5 0,-405.5 0,-405.5 0,-361.5 0,-361.5 0,-355.5 6,-349.5 12,-349.5 12,-349.5 128,-349.5 128,-349.5 134,-349.5 140,-355.5 140,-361.5 140,-361.5 140,-405.5 140,-405.5 140,-411.5 134,-417.5 128,-417.5\"/>\n<text text-anchor=\"start\" x=\"42\" y=\"-402.3\" font-family=\"Helvetica,sans-Serif\" font-size=\"14.00\">gini = 0.0</text>\n<text text-anchor=\"start\" x=\"25\" y=\"-387.3\" font-family=\"Helvetica,sans-Serif\" font-size=\"14.00\">samples = 391</text>\n<text text-anchor=\"start\" x=\"8\" y=\"-372.3\" font-family=\"Helvetica,sans-Serif\" font-size=\"14.00\">value = [391, 0, 0, 0]</text>\n<text text-anchor=\"start\" x=\"28.5\" y=\"-357.3\" font-family=\"Helvetica,sans-Serif\" font-size=\"14.00\">class = unacc</text>\n</g>\n<!-- 0&#45;&gt;1 -->\n<g id=\"edge1\" class=\"edge\">\n<title>0&#45;&gt;1</title>\n<path fill=\"none\" stroke=\"black\" d=\"M126.16,-460.91C117.81,-449.54 108.72,-437.18 100.34,-425.77\"/>\n<polygon fill=\"black\" stroke=\"black\" points=\"103.12,-423.65 94.38,-417.67 97.48,-427.8 103.12,-423.65\"/>\n<text text-anchor=\"middle\" x=\"90.61\" y=\"-438.68\" font-family=\"Helvetica,sans-Serif\" font-size=\"14.00\">True</text>\n</g>\n<!-- 2 -->\n<g id=\"node3\" class=\"node\">\n<title>2</title>\n<path fill=\"#f7d7c0\" stroke=\"black\" d=\"M316,-425C316,-425 170,-425 170,-425 164,-425 158,-419 158,-413 158,-413 158,-354 158,-354 158,-348 164,-342 170,-342 170,-342 316,-342 316,-342 322,-342 328,-348 328,-354 328,-354 328,-413 328,-413 328,-419 322,-425 316,-425\"/>\n<text text-anchor=\"start\" x=\"202\" y=\"-409.8\" font-family=\"Helvetica,sans-Serif\" font-size=\"14.00\">persons ≤ 1.0</text>\n<text text-anchor=\"start\" x=\"207.5\" y=\"-394.8\" font-family=\"Helvetica,sans-Serif\" font-size=\"14.00\">gini = 0.581</text>\n<text text-anchor=\"start\" x=\"198\" y=\"-379.8\" font-family=\"Helvetica,sans-Serif\" font-size=\"14.00\">samples = 766</text>\n<text text-anchor=\"start\" x=\"166\" y=\"-364.8\" font-family=\"Helvetica,sans-Serif\" font-size=\"14.00\">value = [419, 257, 51, 39]</text>\n<text text-anchor=\"start\" x=\"201.5\" y=\"-349.8\" font-family=\"Helvetica,sans-Serif\" font-size=\"14.00\">class = unacc</text>\n</g>\n<!-- 0&#45;&gt;2 -->\n<g id=\"edge2\" class=\"edge\">\n<title>0&#45;&gt;2</title>\n<path fill=\"none\" stroke=\"black\" d=\"M186.18,-460.91C192.86,-451.92 200.01,-442.32 206.9,-433.05\"/>\n<polygon fill=\"black\" stroke=\"black\" points=\"209.71,-435.13 212.87,-425.02 204.09,-430.96 209.71,-435.13\"/>\n<text text-anchor=\"middle\" x=\"216.51\" y=\"-446.05\" font-family=\"Helvetica,sans-Serif\" font-size=\"14.00\">False</text>\n</g>\n<!-- 3 -->\n<g id=\"node4\" class=\"node\">\n<title>3</title>\n<path fill=\"#e58139\" stroke=\"black\" d=\"M215,-298.5C215,-298.5 99,-298.5 99,-298.5 93,-298.5 87,-292.5 87,-286.5 87,-286.5 87,-242.5 87,-242.5 87,-236.5 93,-230.5 99,-230.5 99,-230.5 215,-230.5 215,-230.5 221,-230.5 227,-236.5 227,-242.5 227,-242.5 227,-286.5 227,-286.5 227,-292.5 221,-298.5 215,-298.5\"/>\n<text text-anchor=\"start\" x=\"129\" y=\"-283.3\" font-family=\"Helvetica,sans-Serif\" font-size=\"14.00\">gini = 0.0</text>\n<text text-anchor=\"start\" x=\"112\" y=\"-268.3\" font-family=\"Helvetica,sans-Serif\" font-size=\"14.00\">samples = 242</text>\n<text text-anchor=\"start\" x=\"95\" y=\"-253.3\" font-family=\"Helvetica,sans-Serif\" font-size=\"14.00\">value = [242, 0, 0, 0]</text>\n<text text-anchor=\"start\" x=\"115.5\" y=\"-238.3\" font-family=\"Helvetica,sans-Serif\" font-size=\"14.00\">class = unacc</text>\n</g>\n<!-- 2&#45;&gt;3 -->\n<g id=\"edge3\" class=\"edge\">\n<title>2&#45;&gt;3</title>\n<path fill=\"none\" stroke=\"black\" d=\"M213.16,-341.91C204.81,-330.54 195.72,-318.18 187.34,-306.77\"/>\n<polygon fill=\"black\" stroke=\"black\" points=\"190.12,-304.65 181.38,-298.67 184.48,-308.8 190.12,-304.65\"/>\n</g>\n<!-- 4 -->\n<g id=\"node5\" class=\"node\">\n<title>4</title>\n<path fill=\"#d5f9d1\" stroke=\"black\" d=\"M403,-306C403,-306 257,-306 257,-306 251,-306 245,-300 245,-294 245,-294 245,-235 245,-235 245,-229 251,-223 257,-223 257,-223 403,-223 403,-223 409,-223 415,-229 415,-235 415,-235 415,-294 415,-294 415,-300 409,-306 403,-306\"/>\n<text text-anchor=\"start\" x=\"293\" y=\"-290.8\" font-family=\"Helvetica,sans-Serif\" font-size=\"14.00\">buying ≤ 1.5</text>\n<text text-anchor=\"start\" x=\"298\" y=\"-275.8\" font-family=\"Helvetica,sans-Serif\" font-size=\"14.00\">gini = 0.63</text>\n<text text-anchor=\"start\" x=\"285\" y=\"-260.8\" font-family=\"Helvetica,sans-Serif\" font-size=\"14.00\">samples = 524</text>\n<text text-anchor=\"start\" x=\"253\" y=\"-245.8\" font-family=\"Helvetica,sans-Serif\" font-size=\"14.00\">value = [177, 257, 51, 39]</text>\n<text text-anchor=\"start\" x=\"296\" y=\"-230.8\" font-family=\"Helvetica,sans-Serif\" font-size=\"14.00\">class = acc</text>\n</g>\n<!-- 2&#45;&gt;4 -->\n<g id=\"edge4\" class=\"edge\">\n<title>2&#45;&gt;4</title>\n<path fill=\"none\" stroke=\"black\" d=\"M273.18,-341.91C279.86,-332.92 287.01,-323.32 293.9,-314.05\"/>\n<polygon fill=\"black\" stroke=\"black\" points=\"296.71,-316.13 299.87,-306.02 291.09,-311.96 296.71,-316.13\"/>\n</g>\n<!-- 5 -->\n<g id=\"node6\" class=\"node\">\n<title>5</title>\n<path fill=\"#b6f5b1\" stroke=\"black\" d=\"M311,-187C311,-187 173,-187 173,-187 167,-187 161,-181 161,-175 161,-175 161,-116 161,-116 161,-110 167,-104 173,-104 173,-104 311,-104 311,-104 317,-104 323,-110 323,-116 323,-116 323,-175 323,-175 323,-181 317,-187 311,-187\"/>\n<text text-anchor=\"start\" x=\"208\" y=\"-171.8\" font-family=\"Helvetica,sans-Serif\" font-size=\"14.00\">maint ≤ 1.5</text>\n<text text-anchor=\"start\" x=\"206.5\" y=\"-156.8\" font-family=\"Helvetica,sans-Serif\" font-size=\"14.00\">gini = 0.654</text>\n<text text-anchor=\"start\" x=\"197\" y=\"-141.8\" font-family=\"Helvetica,sans-Serif\" font-size=\"14.00\">samples = 258</text>\n<text text-anchor=\"start\" x=\"169\" y=\"-126.8\" font-family=\"Helvetica,sans-Serif\" font-size=\"14.00\">value = [35, 133, 51, 39]</text>\n<text text-anchor=\"start\" x=\"208\" y=\"-111.8\" font-family=\"Helvetica,sans-Serif\" font-size=\"14.00\">class = acc</text>\n</g>\n<!-- 4&#45;&gt;5 -->\n<g id=\"edge5\" class=\"edge\">\n<title>4&#45;&gt;5</title>\n<path fill=\"none\" stroke=\"black\" d=\"M299.47,-222.91C292.71,-213.92 285.48,-204.32 278.52,-195.05\"/>\n<polygon fill=\"black\" stroke=\"black\" points=\"281.29,-192.91 272.48,-187.02 275.69,-197.12 281.29,-192.91\"/>\n</g>\n<!-- 8 -->\n<g id=\"node9\" class=\"node\">\n<title>8</title>\n<path fill=\"#fcefe6\" stroke=\"black\" d=\"M484.5,-187C484.5,-187 353.5,-187 353.5,-187 347.5,-187 341.5,-181 341.5,-175 341.5,-175 341.5,-116 341.5,-116 341.5,-110 347.5,-104 353.5,-104 353.5,-104 484.5,-104 484.5,-104 490.5,-104 496.5,-110 496.5,-116 496.5,-116 496.5,-175 496.5,-175 496.5,-181 490.5,-187 484.5,-187\"/>\n<text text-anchor=\"start\" x=\"385\" y=\"-171.8\" font-family=\"Helvetica,sans-Serif\" font-size=\"14.00\">maint ≤ 1.5</text>\n<text text-anchor=\"start\" x=\"383.5\" y=\"-156.8\" font-family=\"Helvetica,sans-Serif\" font-size=\"14.00\">gini = 0.498</text>\n<text text-anchor=\"start\" x=\"374\" y=\"-141.8\" font-family=\"Helvetica,sans-Serif\" font-size=\"14.00\">samples = 266</text>\n<text text-anchor=\"start\" x=\"349.5\" y=\"-126.8\" font-family=\"Helvetica,sans-Serif\" font-size=\"14.00\">value = [142, 124, 0, 0]</text>\n<text text-anchor=\"start\" x=\"377.5\" y=\"-111.8\" font-family=\"Helvetica,sans-Serif\" font-size=\"14.00\">class = unacc</text>\n</g>\n<!-- 4&#45;&gt;8 -->\n<g id=\"edge8\" class=\"edge\">\n<title>4&#45;&gt;8</title>\n<path fill=\"none\" stroke=\"black\" d=\"M360.88,-222.91C367.71,-213.92 375.02,-204.32 382.07,-195.05\"/>\n<polygon fill=\"black\" stroke=\"black\" points=\"384.91,-197.1 388.18,-187.02 379.34,-192.86 384.91,-197.1\"/>\n</g>\n<!-- 6 -->\n<g id=\"node7\" class=\"node\">\n<title>6</title>\n<path fill=\"#edf6fd\" stroke=\"black\" d=\"M145.5,-68C145.5,-68 22.5,-68 22.5,-68 16.5,-68 10.5,-62 10.5,-56 10.5,-56 10.5,-12 10.5,-12 10.5,-6 16.5,0 22.5,0 22.5,0 145.5,0 145.5,0 151.5,0 157.5,-6 157.5,-12 157.5,-12 157.5,-56 157.5,-56 157.5,-62 151.5,-68 145.5,-68\"/>\n<text text-anchor=\"start\" x=\"48.5\" y=\"-52.8\" font-family=\"Helvetica,sans-Serif\" font-size=\"14.00\">gini = 0.688</text>\n<text text-anchor=\"start\" x=\"39\" y=\"-37.8\" font-family=\"Helvetica,sans-Serif\" font-size=\"14.00\">samples = 133</text>\n<text text-anchor=\"start\" x=\"18.5\" y=\"-22.8\" font-family=\"Helvetica,sans-Serif\" font-size=\"14.00\">value = [7, 43, 51, 32]</text>\n<text text-anchor=\"start\" x=\"45.5\" y=\"-7.8\" font-family=\"Helvetica,sans-Serif\" font-size=\"14.00\">class = good</text>\n</g>\n<!-- 5&#45;&gt;6 -->\n<g id=\"edge6\" class=\"edge\">\n<title>5&#45;&gt;6</title>\n<path fill=\"none\" stroke=\"black\" d=\"M183.17,-103.73C169.14,-94.01 154.21,-83.66 140.31,-74.02\"/>\n<polygon fill=\"black\" stroke=\"black\" points=\"142.01,-70.94 131.8,-68.13 138.02,-76.7 142.01,-70.94\"/>\n</g>\n<!-- 7 -->\n<g id=\"node8\" class=\"node\">\n<title>7</title>\n<path fill=\"#89ee80\" stroke=\"black\" d=\"M304,-68C304,-68 188,-68 188,-68 182,-68 176,-62 176,-56 176,-56 176,-12 176,-12 176,-6 182,0 188,0 188,0 304,0 304,0 310,0 316,-6 316,-12 316,-12 316,-56 316,-56 316,-62 310,-68 304,-68\"/>\n<text text-anchor=\"start\" x=\"210.5\" y=\"-52.8\" font-family=\"Helvetica,sans-Serif\" font-size=\"14.00\">gini = 0.428</text>\n<text text-anchor=\"start\" x=\"201\" y=\"-37.8\" font-family=\"Helvetica,sans-Serif\" font-size=\"14.00\">samples = 125</text>\n<text text-anchor=\"start\" x=\"184\" y=\"-22.8\" font-family=\"Helvetica,sans-Serif\" font-size=\"14.00\">value = [28, 90, 0, 7]</text>\n<text text-anchor=\"start\" x=\"212\" y=\"-7.8\" font-family=\"Helvetica,sans-Serif\" font-size=\"14.00\">class = acc</text>\n</g>\n<!-- 5&#45;&gt;7 -->\n<g id=\"edge7\" class=\"edge\">\n<title>5&#45;&gt;7</title>\n<path fill=\"none\" stroke=\"black\" d=\"M243.49,-103.73C243.79,-95.52 244.11,-86.86 244.41,-78.56\"/>\n<polygon fill=\"black\" stroke=\"black\" points=\"247.92,-78.42 244.78,-68.3 240.92,-78.17 247.92,-78.42\"/>\n</g>\n<!-- 9 -->\n<g id=\"node10\" class=\"node\">\n<title>9</title>\n<path fill=\"#84ee7a\" stroke=\"black\" d=\"M476.5,-68C476.5,-68 353.5,-68 353.5,-68 347.5,-68 341.5,-62 341.5,-56 341.5,-56 341.5,-12 341.5,-12 341.5,-6 347.5,0 353.5,0 353.5,0 476.5,0 476.5,0 482.5,0 488.5,-6 488.5,-12 488.5,-12 488.5,-56 488.5,-56 488.5,-62 482.5,-68 476.5,-68\"/>\n<text text-anchor=\"start\" x=\"379.5\" y=\"-52.8\" font-family=\"Helvetica,sans-Serif\" font-size=\"14.00\">gini = 0.373</text>\n<text text-anchor=\"start\" x=\"370\" y=\"-37.8\" font-family=\"Helvetica,sans-Serif\" font-size=\"14.00\">samples = 137</text>\n<text text-anchor=\"start\" x=\"349.5\" y=\"-22.8\" font-family=\"Helvetica,sans-Serif\" font-size=\"14.00\">value = [34, 103, 0, 0]</text>\n<text text-anchor=\"start\" x=\"381\" y=\"-7.8\" font-family=\"Helvetica,sans-Serif\" font-size=\"14.00\">class = acc</text>\n</g>\n<!-- 8&#45;&gt;9 -->\n<g id=\"edge9\" class=\"edge\">\n<title>8&#45;&gt;9</title>\n<path fill=\"none\" stroke=\"black\" d=\"M417.51,-103.73C417.21,-95.52 416.89,-86.86 416.59,-78.56\"/>\n<polygon fill=\"black\" stroke=\"black\" points=\"420.08,-78.17 416.22,-68.3 413.08,-78.42 420.08,-78.17\"/>\n</g>\n<!-- 10 -->\n<g id=\"node11\" class=\"node\">\n<title>10</title>\n<path fill=\"#ea9a5f\" stroke=\"black\" d=\"M641.5,-68C641.5,-68 518.5,-68 518.5,-68 512.5,-68 506.5,-62 506.5,-56 506.5,-56 506.5,-12 506.5,-12 506.5,-6 512.5,0 518.5,0 518.5,0 641.5,0 641.5,0 647.5,0 653.5,-6 653.5,-12 653.5,-12 653.5,-56 653.5,-56 653.5,-62 647.5,-68 641.5,-68\"/>\n<text text-anchor=\"start\" x=\"544.5\" y=\"-52.8\" font-family=\"Helvetica,sans-Serif\" font-size=\"14.00\">gini = 0.273</text>\n<text text-anchor=\"start\" x=\"535\" y=\"-37.8\" font-family=\"Helvetica,sans-Serif\" font-size=\"14.00\">samples = 129</text>\n<text text-anchor=\"start\" x=\"514.5\" y=\"-22.8\" font-family=\"Helvetica,sans-Serif\" font-size=\"14.00\">value = [108, 21, 0, 0]</text>\n<text text-anchor=\"start\" x=\"538.5\" y=\"-7.8\" font-family=\"Helvetica,sans-Serif\" font-size=\"14.00\">class = unacc</text>\n</g>\n<!-- 8&#45;&gt;10 -->\n<g id=\"edge10\" class=\"edge\">\n<title>8&#45;&gt;10</title>\n<path fill=\"none\" stroke=\"black\" d=\"M478.95,-103.73C493.37,-93.92 508.74,-83.46 523.03,-73.75\"/>\n<polygon fill=\"black\" stroke=\"black\" points=\"524.99,-76.64 531.3,-68.13 521.06,-70.85 524.99,-76.64\"/>\n</g>\n</g>\n</svg>\n"
          },
          "metadata": {},
          "execution_count": 19
        }
      ]
    },
    {
      "cell_type": "markdown",
      "metadata": {
        "ExecuteTime": {
          "end_time": "2021-11-02T10:24:32.205815Z",
          "start_time": "2021-11-02T10:24:32.200091Z"
        },
        "id": "fB5pHcx9_8dL"
      },
      "source": [
        "9.1. Здійсню пошук гіперпараметрів для DecisionTree за сіткою за допомогою sklearn."
      ]
    },
    {
      "cell_type": "code",
      "execution_count": null,
      "metadata": {
        "ExecuteTime": {
          "end_time": "2021-11-02T10:43:03.265981Z",
          "start_time": "2021-11-02T10:43:03.264154Z"
        },
        "id": "i8ybBX2E_8dL",
        "colab": {
          "base_uri": "https://localhost:8080/",
          "height": 34
        },
        "outputId": "29818eb6-1d3c-4e16-c276-ecc0936c37fe"
      },
      "outputs": [
        {
          "output_type": "display_data",
          "data": {
            "text/plain": [
              "{'criterion': 'entropy', 'max_depth': 13, 'min_samples_leaf': 1}"
            ]
          },
          "metadata": {}
        }
      ],
      "source": [
        "param_grid = { 'criterion':['gini','entropy'],'max_depth': np.arange(3, 15), 'min_samples_leaf': np.arange(1, 5)}\n",
        "clf = GridSearchCV(decis_tree_model, param_grid, cv=5)\n",
        "clf.fit(X_train, y_train)\n",
        "display(clf.best_params_)\n",
        "y_pred_clf = clf.predict(X_test)"
      ]
    },
    {
      "cell_type": "markdown",
      "metadata": {
        "ExecuteTime": {
          "end_time": "2021-11-02T10:31:41.716381Z",
          "start_time": "2021-11-02T10:31:41.713212Z"
        },
        "id": "Liu7FuBk_8dL"
      },
      "source": [
        "9.2. Виведу claasification report фінальної моделі пошуку гіперпараметрів."
      ]
    },
    {
      "cell_type": "code",
      "execution_count": null,
      "metadata": {
        "ExecuteTime": {
          "end_time": "2021-11-02T10:43:03.265981Z",
          "start_time": "2021-11-02T10:43:03.264154Z"
        },
        "id": "xeXPKMlj_8dL",
        "colab": {
          "base_uri": "https://localhost:8080/"
        },
        "outputId": "c7985a02-4c6d-4a03-b6a1-0add8d9801a1"
      },
      "outputs": [
        {
          "output_type": "stream",
          "name": "stdout",
          "text": [
            "              precision    recall  f1-score   support\n",
            "\n",
            "         0.0       0.99      0.99      0.99       399\n",
            "         1.0       0.94      0.93      0.93       127\n",
            "         2.0       0.74      0.78      0.76        18\n",
            "         3.0       0.91      0.81      0.86        26\n",
            "\n",
            "    accuracy                           0.96       570\n",
            "   macro avg       0.89      0.88      0.88       570\n",
            "weighted avg       0.96      0.96      0.96       570\n",
            "\n"
          ]
        }
      ],
      "source": [
        "print(classification_report(y_test, y_pred_clf))"
      ]
    },
    {
      "cell_type": "markdown",
      "metadata": {
        "ExecuteTime": {
          "end_time": "2021-11-02T10:31:54.320583Z",
          "start_time": "2021-11-02T10:31:54.316901Z"
        },
        "id": "61HuBtlS_8dL"
      },
      "source": [
        "9.3. Виведу матрицю помилок для кращої моделі у пошуку гіперпараметрів. "
      ]
    },
    {
      "cell_type": "code",
      "execution_count": null,
      "metadata": {
        "ExecuteTime": {
          "end_time": "2021-11-02T10:43:23.892947Z",
          "start_time": "2021-11-02T10:43:23.886585Z"
        },
        "id": "3qn63PsF_8dL",
        "colab": {
          "base_uri": "https://localhost:8080/",
          "height": 279
        },
        "outputId": "da036ec4-0cc0-420b-da97-7d1e12e21be1"
      },
      "outputs": [
        {
          "output_type": "display_data",
          "data": {
            "text/plain": [
              "<Figure size 432x288 with 2 Axes>"
            ],
            "image/png": "[encoded data removed]"
          },
          "metadata": {
            "needs_background": "light"
          }
        }
      ],
      "source": [
        "cf_matrix = confusion_matrix(y_test, y_pred_clf)\n",
        "cm_display = ConfusionMatrixDisplay(confusion_matrix=cf_matrix, display_labels=cl_names)\n",
        "cm_display.plot()\n",
        "plt.show()"
      ]
    },
    {
      "cell_type": "markdown",
      "metadata": {
        "ExecuteTime": {
          "end_time": "2021-11-02T10:43:23.892947Z",
          "start_time": "2021-11-02T10:43:23.886585Z"
        },
        "id": "kxK6x2rt_8dL"
      },
      "source": [
        "\n",
        "При використанні логістичної регресії найгірше визначався клас 'good' (f1-score 0.41 на тесті) та 'acc'(0.69 на тесті). При використанні моделі дерева рішень без підбору гіперпараметрів точність визначення цих двох класів злегка покращується (f1-score 0.47 і 0.74, відповідно), але взагалі не визначає клас 'vgood'. При використанні дерева рішення з підбором оптимальних значень гіперпараметрів найгірше визначається клас 'good' (0.81) і 'vgood'(0.86). Отже, узагальнюючи можна сказати, що при використанні моделі логістичної регресії найгірше визначаються класи 'good' і 'acc', а при використані моделі дерева рішень 'good' і 'vgood'. На мою думку, проблеми визначення класів при використанні моделі дерева рішень може бути пов'язано з малою кількістю записів саме для тих класів."
      ]
    },
    {
      "cell_type": "code",
      "source": [
        "fig, ax = plot_confusion_matrix(conf_mat=cf_matrix,\n",
        "                                colorbar=True,\n",
        "                                show_absolute=False,\n",
        "                                show_normed=True )\n",
        "plt.show()"
      ],
      "metadata": {
        "colab": {
          "base_uri": "https://localhost:8080/",
          "height": 279
        },
        "id": "f4k9NoQ8n915",
        "outputId": "b422f738-0ac7-4bbb-b908-b880a39f00b9"
      },
      "execution_count": null,
      "outputs": [
        {
          "output_type": "display_data",
          "data": {
            "text/plain": [
              "<Figure size 432x288 with 2 Axes>"
            ],
            "image/png": "[encoded data removed]"
          },
          "metadata": {
            "needs_background": "light"
          }
        }
      ]
    }
  ],
  "metadata": {
    "kernelspec": {
      "display_name": "Python 3",
      "language": "python",
      "name": "python3"
    },
    "language_info": {
      "codemirror_mode": {
        "name": "ipython",
        "version": 3
      },
      "file_extension": ".py",
      "mimetype": "text/x-python",
      "name": "python",
      "nbconvert_exporter": "python",
      "pygments_lexer": "ipython3",
      "version": "3.8.8"
    },
    "toc": {
      "base_numbering": 1,
      "nav_menu": {},
      "number_sections": true,
      "sideBar": true,
      "skip_h1_title": false,
      "title_cell": "Table of Contents",
      "title_sidebar": "Contents",
      "toc_cell": false,
      "toc_position": {},
      "toc_section_display": true,
      "toc_window_display": false
    },
    "colab": {
      "provenance": []
    }
  },
  "nbformat": 4,
  "nbformat_minor": 0
}