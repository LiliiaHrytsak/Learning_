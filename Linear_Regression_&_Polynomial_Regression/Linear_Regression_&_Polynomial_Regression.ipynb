{
  "cells": [
    {
      "cell_type": "markdown",
      "metadata": {
        "id": "c201591a"
      },
      "source": [
        "# Лінійна регресія"
      ],
      "id": "c201591a"
    },
    {
      "cell_type": "markdown",
      "metadata": {
        "id": "178d8f7b"
      },
      "source": [
        "### Я працюватиму з набором даних про рівень щастя у країнах за 2019 рік. Дані брала  з Kaggle [змагання](https://www.kaggle.com/unsdsn/world-happiness?select=2019.csv)."
      ],
      "id": "178d8f7b"
    },
    {
      "cell_type": "markdown",
      "metadata": {
        "id": "682c5672"
      },
      "source": [
        "0. Імпорт бібліотек."
      ],
      "id": "682c5672"
    },
    {
      "cell_type": "code",
      "execution_count": null,
      "metadata": {
        "id": "e5bfeac9"
      },
      "outputs": [],
      "source": [
        "import numpy as np\n",
        "import pandas as pd\n",
        "import matplotlib.pyplot as plt\n",
        "import seaborn as sns\n",
        "from sklearn.model_selection import train_test_split\n",
        "from sklearn.preprocessing import MinMaxScaler\n",
        "from sklearn.metrics import mean_squared_error\n",
        "from sklearn.linear_model import LinearRegression\n",
        "from sklearn.preprocessing import PolynomialFeatures\n",
        "from sklearn.pipeline import Pipeline\n",
        "from sklearn.linear_model import ElasticNet\n",
        "import matplotlib.pyplot as plt\n",
        "from matplotlib import rc\n",
        "\n",
        "%matplotlib inline\n",
        "plt.rcParams['figure.figsize'] = 12, 10"
      ],
      "id": "e5bfeac9"
    },
    {
      "cell_type": "markdown",
      "metadata": {
        "id": "d612bd8a"
      },
      "source": [
        "1. Завантажую дані у змінну `df`."
      ],
      "id": "d612bd8a"
    },
    {
      "cell_type": "code",
      "execution_count": null,
      "metadata": {
        "colab": {
          "base_uri": "https://localhost:8080/",
          "height": 206
        },
        "id": "ca3aeea7",
        "outputId": "fbd78d40-1158-4be1-d6ce-cd1014ecc9b7"
      },
      "outputs": [
        {
          "output_type": "execute_result",
          "data": {
            "text/plain": [
              "   Overall rank Country or region  Score  GDP per capita  Social support  \\\n",
              "0             1           Finland  7.769           1.340           1.587   \n",
              "1             2           Denmark  7.600           1.383           1.573   \n",
              "2             3            Norway  7.554           1.488           1.582   \n",
              "3             4           Iceland  7.494           1.380           1.624   \n",
              "4             5       Netherlands  7.488           1.396           1.522   \n",
              "\n",
              "   Healthy life expectancy  Freedom to make life choices  Generosity  \\\n",
              "0                    0.986                         0.596       0.153   \n",
              "1                    0.996                         0.592       0.252   \n",
              "2                    1.028                         0.603       0.271   \n",
              "3                    1.026                         0.591       0.354   \n",
              "4                    0.999                         0.557       0.322   \n",
              "\n",
              "   Perceptions of corruption  \n",
              "0                      0.393  \n",
              "1                      0.410  \n",
              "2                      0.341  \n",
              "3                      0.118  \n",
              "4                      0.298  "
            ],
            "text/html": [
              "\n",
              "  <div id=\"df-b2c1ef0f-7719-41fd-98b3-2af6880d6401\">\n",
              "    <div class=\"colab-df-container\">\n",
              "      <div>\n",
              "<style scoped>\n",
              "    .dataframe tbody tr th:only-of-type {\n",
              "        vertical-align: middle;\n",
              "    }\n",
              "\n",
              "    .dataframe tbody tr th {\n",
              "        vertical-align: top;\n",
              "    }\n",
              "\n",
              "    .dataframe thead th {\n",
              "        text-align: right;\n",
              "    }\n",
              "</style>\n",
              "<table border=\"1\" class=\"dataframe\">\n",
              "  <thead>\n",
              "    <tr style=\"text-align: right;\">\n",
              "      <th></th>\n",
              "      <th>Overall rank</th>\n",
              "      <th>Country or region</th>\n",
              "      <th>Score</th>\n",
              "      <th>GDP per capita</th>\n",
              "      <th>Social support</th>\n",
              "      <th>Healthy life expectancy</th>\n",
              "      <th>Freedom to make life choices</th>\n",
              "      <th>Generosity</th>\n",
              "      <th>Perceptions of corruption</th>\n",
              "    </tr>\n",
              "  </thead>\n",
              "  <tbody>\n",
              "    <tr>\n",
              "      <th>0</th>\n",
              "      <td>1</td>\n",
              "      <td>Finland</td>\n",
              "      <td>7.769</td>\n",
              "      <td>1.340</td>\n",
              "      <td>1.587</td>\n",
              "      <td>0.986</td>\n",
              "      <td>0.596</td>\n",
              "      <td>0.153</td>\n",
              "      <td>0.393</td>\n",
              "    </tr>\n",
              "    <tr>\n",
              "      <th>1</th>\n",
              "      <td>2</td>\n",
              "      <td>Denmark</td>\n",
              "      <td>7.600</td>\n",
              "      <td>1.383</td>\n",
              "      <td>1.573</td>\n",
              "      <td>0.996</td>\n",
              "      <td>0.592</td>\n",
              "      <td>0.252</td>\n",
              "      <td>0.410</td>\n",
              "    </tr>\n",
              "    <tr>\n",
              "      <th>2</th>\n",
              "      <td>3</td>\n",
              "      <td>Norway</td>\n",
              "      <td>7.554</td>\n",
              "      <td>1.488</td>\n",
              "      <td>1.582</td>\n",
              "      <td>1.028</td>\n",
              "      <td>0.603</td>\n",
              "      <td>0.271</td>\n",
              "      <td>0.341</td>\n",
              "    </tr>\n",
              "    <tr>\n",
              "      <th>3</th>\n",
              "      <td>4</td>\n",
              "      <td>Iceland</td>\n",
              "      <td>7.494</td>\n",
              "      <td>1.380</td>\n",
              "      <td>1.624</td>\n",
              "      <td>1.026</td>\n",
              "      <td>0.591</td>\n",
              "      <td>0.354</td>\n",
              "      <td>0.118</td>\n",
              "    </tr>\n",
              "    <tr>\n",
              "      <th>4</th>\n",
              "      <td>5</td>\n",
              "      <td>Netherlands</td>\n",
              "      <td>7.488</td>\n",
              "      <td>1.396</td>\n",
              "      <td>1.522</td>\n",
              "      <td>0.999</td>\n",
              "      <td>0.557</td>\n",
              "      <td>0.322</td>\n",
              "      <td>0.298</td>\n",
              "    </tr>\n",
              "  </tbody>\n",
              "</table>\n",
              "</div>\n",
              "      <button class=\"colab-df-convert\" onclick=\"convertToInteractive('df-b2c1ef0f-7719-41fd-98b3-2af6880d6401')\"\n",
              "              title=\"Convert this dataframe to an interactive table.\"\n",
              "              style=\"display:none;\">\n",
              "        \n",
              "  <svg xmlns=\"http://www.w3.org/2000/svg\" height=\"24px\"viewBox=\"0 0 24 24\"\n",
              "       width=\"24px\">\n",
              "    <path d=\"M0 0h24v24H0V0z\" fill=\"none\"/>\n",
              "    <path d=\"M18.56 5.44l.94 2.06.94-2.06 2.06-.94-2.06-.94-.94-2.06-.94 2.06-2.06.94zm-11 1L8.5 8.5l.94-2.06 2.06-.94-2.06-.94L8.5 2.5l-.94 2.06-2.06.94zm10 10l.94 2.06.94-2.06 2.06-.94-2.06-.94-.94-2.06-.94 2.06-2.06.94z\"/><path d=\"M17.41 7.96l-1.37-1.37c-.4-.4-.92-.59-1.43-.59-.52 0-1.04.2-1.43.59L10.3 9.45l-7.72 7.72c-.78.78-.78 2.05 0 2.83L4 21.41c.39.39.9.59 1.41.59.51 0 1.02-.2 1.41-.59l7.78-7.78 2.81-2.81c.8-.78.8-2.07 0-2.86zM5.41 20L4 18.59l7.72-7.72 1.47 1.35L5.41 20z\"/>\n",
              "  </svg>\n",
              "      </button>\n",
              "      \n",
              "  <style>\n",
              "    .colab-df-container {\n",
              "      display:flex;\n",
              "      flex-wrap:wrap;\n",
              "      gap: 12px;\n",
              "    }\n",
              "\n",
              "    .colab-df-convert {\n",
              "      background-color: #E8F0FE;\n",
              "      border: none;\n",
              "      border-radius: 50%;\n",
              "      cursor: pointer;\n",
              "      display: none;\n",
              "      fill: #1967D2;\n",
              "      height: 32px;\n",
              "      padding: 0 0 0 0;\n",
              "      width: 32px;\n",
              "    }\n",
              "\n",
              "    .colab-df-convert:hover {\n",
              "      background-color: #E2EBFA;\n",
              "      box-shadow: 0px 1px 2px rgba(60, 64, 67, 0.3), 0px 1px 3px 1px rgba(60, 64, 67, 0.15);\n",
              "      fill: #174EA6;\n",
              "    }\n",
              "\n",
              "    [theme=dark] .colab-df-convert {\n",
              "      background-color: #3B4455;\n",
              "      fill: #D2E3FC;\n",
              "    }\n",
              "\n",
              "    [theme=dark] .colab-df-convert:hover {\n",
              "      background-color: #434B5C;\n",
              "      box-shadow: 0px 1px 3px 1px rgba(0, 0, 0, 0.15);\n",
              "      filter: drop-shadow(0px 1px 2px rgba(0, 0, 0, 0.3));\n",
              "      fill: #FFFFFF;\n",
              "    }\n",
              "  </style>\n",
              "\n",
              "      <script>\n",
              "        const buttonEl =\n",
              "          document.querySelector('#df-b2c1ef0f-7719-41fd-98b3-2af6880d6401 button.colab-df-convert');\n",
              "        buttonEl.style.display =\n",
              "          google.colab.kernel.accessAllowed ? 'block' : 'none';\n",
              "\n",
              "        async function convertToInteractive(key) {\n",
              "          const element = document.querySelector('#df-b2c1ef0f-7719-41fd-98b3-2af6880d6401');\n",
              "          const dataTable =\n",
              "            await google.colab.kernel.invokeFunction('convertToInteractive',\n",
              "                                                     [key], {});\n",
              "          if (!dataTable) return;\n",
              "\n",
              "          const docLinkHtml = 'Like what you see? Visit the ' +\n",
              "            '<a target=\"_blank\" href=https://colab.research.google.com/notebooks/data_table.ipynb>data table notebook</a>'\n",
              "            + ' to learn more about interactive tables.';\n",
              "          element.innerHTML = '';\n",
              "          dataTable['output_type'] = 'display_data';\n",
              "          await google.colab.output.renderOutput(dataTable, element);\n",
              "          const docLink = document.createElement('div');\n",
              "          docLink.innerHTML = docLinkHtml;\n",
              "          element.appendChild(docLink);\n",
              "        }\n",
              "      </script>\n",
              "    </div>\n",
              "  </div>\n",
              "  "
            ]
          },
          "metadata": {},
          "execution_count": 2
        }
      ],
      "source": [
        "df = pd.read_csv('2019.csv')\n",
        "df.head()"
      ],
      "id": "ca3aeea7"
    },
    {
      "cell_type": "markdown",
      "metadata": {
        "id": "2b3cce20"
      },
      "source": [
        "2. Виводжу діаграму розсіювання ознак `Score` та `GDP per capita`, використовуючи метод `regplot()` з `seaborn`."
      ],
      "id": "2b3cce20"
    },
    {
      "cell_type": "code",
      "execution_count": null,
      "metadata": {
        "colab": {
          "base_uri": "https://localhost:8080/",
          "height": 606
        },
        "id": "fa1a32b9",
        "outputId": "365ce64e-d9d7-46c8-d565-cb1385654b90"
      },
      "outputs": [
        {
          "output_type": "display_data",
          "data": {
            "text/plain": [
              "<Figure size 864x720 with 1 Axes>"
            ],
            "image/png": "[encoded data removed]"
          },
          "metadata": {
            "needs_background": "light"
          }
        }
      ],
      "source": [
        "sns.regplot(x = \"Score\", \n",
        "            y = \"GDP per capita\", \n",
        "            data = df);\n"
      ],
      "id": "fa1a32b9"
    },
    {
      "cell_type": "markdown",
      "metadata": {
        "id": "fe20c4f7"
      },
      "source": [
        "Судячи з діаграми розсіювання, залежність між цими двома змінними має добре описуватись лінійною моделлю. Тому для початку я моделюватиму цю залежність. Тобто незалежною змінною буде `GDP per capita`, а залежною - `Score`. "
      ],
      "id": "fe20c4f7"
    },
    {
      "cell_type": "markdown",
      "metadata": {
        "id": "fac2b15e"
      },
      "source": [
        "## Розв'язання задачі лінійної регресії методом градієнтного спуску"
      ],
      "id": "fac2b15e"
    },
    {
      "cell_type": "markdown",
      "metadata": {
        "id": "c5f7382a"
      },
      "source": [
        "Позначення:\n",
        "- `X` - матриця ознак\n",
        "- `y` - цільова змінна\n",
        "- `theta` - вектор параметрів\n",
        "- `alpha` - темп навчання (learning rate)"
      ],
      "id": "c5f7382a"
    },
    {
      "cell_type": "markdown",
      "metadata": {
        "id": "b0820ce0"
      },
      "source": [
        "3. Спробую реалізувати формулу передбачення лінійної регресії у методі `predict`. Метод повертатиме передбачення. Для кожного спостереження з матриці ознак передбачення можна знайти за допомогою наступної формули:\n",
        "$$x \\in X, i \\in [1,m], j : \\\\ \\hat{y}_i = \\theta_0 + \\theta_1 x_1 + ... + \\theta_n x_n = \\theta^T x ,\\\\\n",
        "\\text{где m - кількість спостережень, } \\\\ \n",
        "\\text{n - кількість ознак, } \\\\\n",
        "x_0 = 1 \\ \\text{для всіх спостережень}.\n",
        "$$\n",
        "\n",
        "Передбачення всіх спостережень у матриці Х можна знайти як множення матриці ознак на ваги."
      ],
      "id": "b0820ce0"
    },
    {
      "cell_type": "code",
      "execution_count": null,
      "metadata": {
        "id": "a9f34e8f"
      },
      "outputs": [],
      "source": [
        "def predict(X, theta):\n",
        "    prediction = X.dot(theta)\n",
        "    return prediction"
      ],
      "id": "a9f34e8f"
    },
    {
      "cell_type": "markdown",
      "metadata": {
        "id": "dc68bc0e"
      },
      "source": [
        "4. Напишу метод, який рахуватиме функцію втрат.  \n",
        "Метод `cost()` приймає вектор параметрів `theta`, матрицю ознак `X` та реальні значення цільової змінної `y`.\n"
      ],
      "id": "dc68bc0e"
    },
    {
      "cell_type": "code",
      "execution_count": null,
      "metadata": {
        "id": "b8e63ce7"
      },
      "outputs": [],
      "source": [
        "def cost(X, theta, y_true):\n",
        "    m = len(y_1)\n",
        "    cost_value =(1/2*m)*np.sum(np.square(predict(X, theta)-y_true))\n",
        "    return cost_value"
      ],
      "id": "b8e63ce7"
    },
    {
      "cell_type": "markdown",
      "metadata": {
        "id": "64975088"
      },
      "source": [
        "5. Напишу метод `get_gradient()`, який повертатиме вектор власних похідних функції втрат за кожним із параметрів лінійної регресії.\n",
        "\n",
        "\n",
        "> Створю основний метод `gradient_descent()`, який дозволить реалізувати алгоритм градієтного спуску і включатиме в себе попередні допоміжні методи. Під час градієнтного спуку  параметри оновлюють згідно з формулою:\n",
        "\n",
        "\n",
        "\n",
        "$$\n",
        "\\text{для кожного} \\ j \\in [0, n]: \\quad \\theta_j := \\theta_j - \\alpha \\frac{\\partial}{\\partial \\theta_j}J(\\theta), \\\\ \n",
        "\\text{де n - кількість ознак}\n",
        "$$\n",
        "> Метод градієнтного спуску оновлює ваги (модель навчається) поки вони не перестануть змінюватися від ітерації до ітерації, тобто поки Евклідова відстань  між векторами ваг за останні дві ітерації не буде меншою за невелику константу (епсілон).\n",
        "\n"
      ],
      "id": "64975088"
    },
    {
      "cell_type": "code",
      "execution_count": null,
      "metadata": {
        "id": "6aaba898"
      },
      "outputs": [],
      "source": [
        "def get_gradient(X, y, y_estimate):\n",
        "    error = y_estimate - y\n",
        "    gradient = (1.0 / len(y)) * X.T.dot(error)\n",
        "    return gradient"
      ],
      "id": "6aaba898"
    },
    {
      "cell_type": "code",
      "execution_count": null,
      "metadata": {
        "id": "4062f8df"
      },
      "outputs": [],
      "source": [
        "def gradient_descent(X, y, theta, learning_rate, eps, max_iterations):\n",
        "    cost_history = []\n",
        "    theta_history = []\n",
        "    iterations = 1\n",
        "    while True:\n",
        "        y_estimate = predict(X, theta)# передбачення з поточними значеннями вагів\n",
        "        gradient = get_gradient(X, y, y_estimate)# значення приватних похідних функції витрат з поточними значеннями ваг\n",
        "        cost_value = cost(X, theta, y)# значення функції витрат при поточних вагах\n",
        "        cost_history.append(cost_value)\n",
        "        new_theta = theta - learning_rate*gradient\n",
        "        theta_history.append(new_theta)\n",
        "        # Умова зупинки, описана в умові завдання\n",
        "        if np.linalg.norm(new_theta - theta) < eps:\n",
        "            print(\"Алгоритм зійшовся.\")\n",
        "            break\n",
        "            \n",
        "        # Друга умова зупинки\n",
        "        if iterations >= max_iterations:\n",
        "            print(\"Досягнуто максимальної кількості ітерацій\")\n",
        "            break\n",
        "\n",
        "        # Виводимо інформацію кожні 100 ітерацій\n",
        "        if iterations % 100 == 0:\n",
        "            print (\"Ітерація: %d - Помилка на трейн даних: %.4f\" % (iterations, cost_value))\n",
        "\n",
        "        iterations += 1\n",
        "        theta = new_theta\n",
        "    return theta, cost_history, theta_history, iterations\n"
      ],
      "id": "4062f8df"
    },
    {
      "cell_type": "markdown",
      "metadata": {
        "id": "2cefb83e"
      },
      "source": [
        "Підготую дані для моделі."
      ],
      "id": "2cefb83e"
    },
    {
      "cell_type": "code",
      "execution_count": null,
      "metadata": {
        "id": "fdbb2770"
      },
      "outputs": [],
      "source": [
        "X_1 = df['GDP per capita'].values.reshape(-1,1)\n",
        "y_1 = df['Score'].values.reshape(-1,1)\n"
      ],
      "id": "fdbb2770"
    },
    {
      "cell_type": "markdown",
      "metadata": {
        "id": "12fb7483"
      },
      "source": [
        "6. Розділю `X` та `y` на `train` і `test` підвибірки у співвідношенні 80/20. Оскільки у нас мало даних, валідаційну вибірку не виділятиму. Запишу результати у `X_train`, `y_train`, `X_test`, `y_test`."
      ],
      "id": "12fb7483"
    },
    {
      "cell_type": "code",
      "execution_count": null,
      "metadata": {
        "colab": {
          "base_uri": "https://localhost:8080/"
        },
        "id": "e79d3842",
        "outputId": "f4fc916f-9706-410a-eae0-b3f250da0aa7"
      },
      "outputs": [
        {
          "output_type": "stream",
          "name": "stdout",
          "text": [
            "Data shape for training:\n",
            " X: (124, 1) y: (124, 1) \n",
            "\n",
            "Data shape for testing:\n",
            " X: (32, 1) y: (32, 1)\n"
          ]
        }
      ],
      "source": [
        "test_size = 0.2\n",
        "\n",
        "X_train, X_test, y_train, y_test = train_test_split(X_1, y_1, test_size=test_size, shuffle=True, random_state=42)\n",
        "\n",
        "print(\"Data shape for training:\\n\", \"X:\", X_train.shape, \"y:\", y_train.shape, \"\\n\")\n",
        "print(\"Data shape for testing:\\n\", \"X:\", X_test.shape, \"y:\", y_test.shape)"
      ],
      "id": "e79d3842"
    },
    {
      "cell_type": "markdown",
      "metadata": {
        "id": "f54c99e4"
      },
      "source": [
        "7. Реалізую масштабування ознак із використанням `MinMaxScaler`."
      ],
      "id": "f54c99e4"
    },
    {
      "cell_type": "code",
      "execution_count": null,
      "metadata": {
        "id": "d2f92029"
      },
      "outputs": [],
      "source": [
        "min_max_scaler = MinMaxScaler(feature_range=(0, 1))\n",
        "min_max_scaler.fit(X_train)\n",
        "min_max_scaled_train = min_max_scaler.transform(X_train)\n",
        "min_max_scaled_test = min_max_scaler.transform(X_test)\n"
      ],
      "id": "d2f92029"
    },
    {
      "cell_type": "markdown",
      "metadata": {
        "id": "832cd76a"
      },
      "source": [
        "8. Додам колонку з одиниць до масивів `X_train`, `X_test`."
      ],
      "id": "832cd76a"
    },
    {
      "cell_type": "code",
      "execution_count": null,
      "metadata": {
        "id": "7722e7d4"
      },
      "outputs": [],
      "source": [
        "X_train_1 = np.insert(min_max_scaled_train, 0, values=1, axis=1) # Insert values before column 0\n",
        "X_test_1 = np.insert(min_max_scaled_test, 0, values=1, axis=1) # Insert values before column 0\n",
        "X_train1_df =pd.DataFrame(X_train_1, columns=['x_0','x_1'])\n",
        "X_test1_df =pd.DataFrame(X_test_1, columns=['x_0','x_1'])"
      ],
      "id": "7722e7d4"
    },
    {
      "cell_type": "markdown",
      "metadata": {
        "id": "bf927241"
      },
      "source": [
        "\n",
        "\n",
        "9. Встановлю темп навчання рівний 0.01, точність епсілон рівний $10^{-6}$, кількість ітерацій - 20000 і запущу градієнтний спуск на тренувальних даних, передавши всі необхідні параметри."
      ],
      "id": "bf927241"
    },
    {
      "cell_type": "code",
      "execution_count": null,
      "metadata": {
        "colab": {
          "base_uri": "https://localhost:8080/"
        },
        "id": "ed756079",
        "outputId": "e506b320-14f8-483a-f2a1-86705aaf5272"
      },
      "outputs": [
        {
          "output_type": "stream",
          "name": "stdout",
          "text": [
            "Ітерація: 100 - Помилка на трейн даних: 15750.7354\n",
            "Ітерація: 200 - Помилка на трейн даних: 5126.1200\n",
            "Ітерація: 300 - Помилка на трейн даних: 4344.5154\n",
            "Ітерація: 400 - Помилка на трейн даних: 4286.2376\n",
            "Ітерація: 500 - Помилка на трейн даних: 4281.1842\n",
            "Ітерація: 600 - Помилка на трейн даних: 4280.1107\n",
            "Ітерація: 700 - Помилка на трейн даних: 4279.3927\n",
            "Ітерація: 800 - Помилка на трейн даних: 4278.7580\n",
            "Ітерація: 900 - Помилка на трейн даних: 4278.1816\n",
            "Ітерація: 1000 - Помилка на трейн даних: 4277.6569\n",
            "Ітерація: 1100 - Помилка на трейн даних: 4277.1793\n",
            "Ітерація: 1200 - Помилка на трейн даних: 4276.7445\n",
            "Ітерація: 1300 - Помилка на трейн даних: 4276.3486\n",
            "Ітерація: 1400 - Помилка на трейн даних: 4275.9882\n",
            "Ітерація: 1500 - Помилка на трейн даних: 4275.6602\n",
            "Ітерація: 1600 - Помилка на трейн даних: 4275.3615\n",
            "Ітерація: 1700 - Помилка на трейн даних: 4275.0896\n",
            "Ітерація: 1800 - Помилка на трейн даних: 4274.8420\n",
            "Ітерація: 1900 - Помилка на трейн даних: 4274.6167\n",
            "Ітерація: 2000 - Помилка на трейн даних: 4274.4115\n",
            "Ітерація: 2100 - Помилка на трейн даних: 4274.2247\n",
            "Ітерація: 2200 - Помилка на трейн даних: 4274.0547\n",
            "Ітерація: 2300 - Помилка на трейн даних: 4273.8999\n",
            "Ітерація: 2400 - Помилка на трейн даних: 4273.7590\n",
            "Ітерація: 2500 - Помилка на трейн даних: 4273.6307\n",
            "Ітерація: 2600 - Помилка на трейн даних: 4273.5139\n",
            "Ітерація: 2700 - Помилка на трейн даних: 4273.4075\n",
            "Ітерація: 2800 - Помилка на трейн даних: 4273.3107\n",
            "Ітерація: 2900 - Помилка на трейн даних: 4273.2226\n",
            "Ітерація: 3000 - Помилка на трейн даних: 4273.1424\n",
            "Ітерація: 3100 - Помилка на трейн даних: 4273.0693\n",
            "Ітерація: 3200 - Помилка на трейн даних: 4273.0029\n",
            "Ітерація: 3300 - Помилка на трейн даних: 4272.9423\n",
            "Ітерація: 3400 - Помилка на трейн даних: 4272.8872\n",
            "Ітерація: 3500 - Помилка на трейн даних: 4272.8370\n",
            "Ітерація: 3600 - Помилка на трейн даних: 4272.7914\n",
            "Ітерація: 3700 - Помилка на трейн даних: 4272.7498\n",
            "Ітерація: 3800 - Помилка на трейн даних: 4272.7119\n",
            "Ітерація: 3900 - Помилка на трейн даних: 4272.6775\n",
            "Ітерація: 4000 - Помилка на трейн даних: 4272.6461\n",
            "Ітерація: 4100 - Помилка на трейн даних: 4272.6175\n",
            "Ітерація: 4200 - Помилка на трейн даних: 4272.5915\n",
            "Ітерація: 4300 - Помилка на трейн даних: 4272.5678\n",
            "Ітерація: 4400 - Помилка на трейн даних: 4272.5463\n",
            "Ітерація: 4500 - Помилка на трейн даних: 4272.5267\n",
            "Ітерація: 4600 - Помилка на трейн даних: 4272.5088\n",
            "Ітерація: 4700 - Помилка на трейн даних: 4272.4926\n",
            "Ітерація: 4800 - Помилка на трейн даних: 4272.4778\n",
            "Ітерація: 4900 - Помилка на трейн даних: 4272.4643\n",
            "Ітерація: 5000 - Помилка на трейн даних: 4272.4520\n",
            "Ітерація: 5100 - Помилка на трейн даних: 4272.4408\n",
            "Ітерація: 5200 - Помилка на трейн даних: 4272.4307\n",
            "Ітерація: 5300 - Помилка на трейн даних: 4272.4214\n",
            "Ітерація: 5400 - Помилка на трейн даних: 4272.4130\n",
            "Ітерація: 5500 - Помилка на трейн даних: 4272.4053\n",
            "Ітерація: 5600 - Помилка на трейн даних: 4272.3983\n",
            "Ітерація: 5700 - Помилка на трейн даних: 4272.3920\n",
            "Ітерація: 5800 - Помилка на трейн даних: 4272.3862\n",
            "Ітерація: 5900 - Помилка на трейн даних: 4272.3809\n",
            "Ітерація: 6000 - Помилка на трейн даних: 4272.3761\n",
            "Ітерація: 6100 - Помилка на трейн даних: 4272.3717\n",
            "Ітерація: 6200 - Помилка на трейн даних: 4272.3678\n",
            "Ітерація: 6300 - Помилка на трейн даних: 4272.3641\n",
            "Ітерація: 6400 - Помилка на трейн даних: 4272.3609\n",
            "Ітерація: 6500 - Помилка на трейн даних: 4272.3579\n",
            "Ітерація: 6600 - Помилка на трейн даних: 4272.3551\n",
            "Ітерація: 6700 - Помилка на трейн даних: 4272.3526\n",
            "Ітерація: 6800 - Помилка на трейн даних: 4272.3504\n",
            "Ітерація: 6900 - Помилка на трейн даних: 4272.3483\n",
            "Ітерація: 7000 - Помилка на трейн даних: 4272.3464\n",
            "Ітерація: 7100 - Помилка на трейн даних: 4272.3447\n",
            "Ітерація: 7200 - Помилка на трейн даних: 4272.3432\n",
            "Ітерація: 7300 - Помилка на трейн даних: 4272.3418\n",
            "Ітерація: 7400 - Помилка на трейн даних: 4272.3405\n",
            "Ітерація: 7500 - Помилка на трейн даних: 4272.3393\n",
            "Ітерація: 7600 - Помилка на трейн даних: 4272.3382\n",
            "Ітерація: 7700 - Помилка на трейн даних: 4272.3373\n",
            "Ітерація: 7800 - Помилка на трейн даних: 4272.3364\n",
            "Ітерація: 7900 - Помилка на трейн даних: 4272.3356\n",
            "Ітерація: 8000 - Помилка на трейн даних: 4272.3348\n",
            "Ітерація: 8100 - Помилка на трейн даних: 4272.3342\n",
            "Ітерація: 8200 - Помилка на трейн даних: 4272.3335\n",
            "Ітерація: 8300 - Помилка на трейн даних: 4272.3330\n",
            "Ітерація: 8400 - Помилка на трейн даних: 4272.3325\n",
            "Ітерація: 8500 - Помилка на трейн даних: 4272.3320\n",
            "Ітерація: 8600 - Помилка на трейн даних: 4272.3316\n",
            "Ітерація: 8700 - Помилка на трейн даних: 4272.3312\n",
            "Ітерація: 8800 - Помилка на трейн даних: 4272.3309\n",
            "Ітерація: 8900 - Помилка на трейн даних: 4272.3306\n",
            "Ітерація: 9000 - Помилка на трейн даних: 4272.3303\n",
            "Ітерація: 9100 - Помилка на трейн даних: 4272.3300\n",
            "Ітерація: 9200 - Помилка на трейн даних: 4272.3298\n",
            "Ітерація: 9300 - Помилка на трейн даних: 4272.3296\n",
            "Алгоритм зійшовся.\n"
          ]
        }
      ],
      "source": [
        "learning_rate = 0.01\n",
        "max_iterations = 20000\n",
        "epsilon = 10**(-6)\n",
        "\n",
        "theta = np.random.randn(2,1)\n",
        "\n",
        "theta, cost_history, theta_history, iterations = gradient_descent(X_train_1, y_train, theta, learning_rate, epsilon, max_iterations)"
      ],
      "id": "ed756079"
    },
    {
      "cell_type": "markdown",
      "metadata": {
        "id": "763cd65b"
      },
      "source": [
        "10. Візуалізую на лінійному графіку значення змінної `cost_history`. "
      ],
      "id": "763cd65b"
    },
    {
      "cell_type": "code",
      "execution_count": null,
      "metadata": {
        "colab": {
          "base_uri": "https://localhost:8080/",
          "height": 614
        },
        "id": "9bdacbfa",
        "outputId": "3d509e8f-ae26-4f84-a860-62ee18cd571f"
      },
      "outputs": [
        {
          "output_type": "display_data",
          "data": {
            "text/plain": [
              "<Figure size 864x720 with 1 Axes>"
            ],
            "image/png": "[encoded data removed]"
          },
          "metadata": {
            "needs_background": "light"
          }
        }
      ],
      "source": [
        "iter = range(len(cost_history))\n",
        "plt.plot(iter,cost_history)\n",
        "plt.ylabel(\"Cost history\", fontsize=18)\n",
        "plt.xlabel(\"Itterations\", fontsize=18);"
      ],
      "id": "9bdacbfa"
    },
    {
      "cell_type": "markdown",
      "metadata": {
        "id": "f25e7b8e"
      },
      "source": [
        "Відображу лише перші 200 ітерацій. Схоже, що після них модель мало навчається. "
      ],
      "id": "f25e7b8e"
    },
    {
      "cell_type": "code",
      "execution_count": null,
      "metadata": {
        "colab": {
          "base_uri": "https://localhost:8080/",
          "height": 610
        },
        "id": "3a96588e",
        "outputId": "f0f257cb-63bb-40ea-f613-9143ca2a3d22"
      },
      "outputs": [
        {
          "output_type": "display_data",
          "data": {
            "text/plain": [
              "<Figure size 864x720 with 1 Axes>"
            ],
            "image/png": "[encoded data removed]"
          },
          "metadata": {
            "needs_background": "light"
          }
        }
      ],
      "source": [
        "sns.lineplot(cost_history[:200])\n",
        "plt.ylabel(\"Cost history\",fontsize=14)\n",
        "plt.xlabel(\"Itterations\", fontsize=14);"
      ],
      "id": "3a96588e"
    },
    {
      "cell_type": "markdown",
      "metadata": {
        "id": "1b03a7de"
      },
      "source": [
        "Виведу отримані параметри та останнє значення функції витрат."
      ],
      "id": "1b03a7de"
    },
    {
      "cell_type": "code",
      "execution_count": null,
      "metadata": {
        "colab": {
          "base_uri": "https://localhost:8080/"
        },
        "id": "a4b599fc",
        "outputId": "f3d5d0bb-10d6-4672-b94a-78b145cefe20"
      },
      "outputs": [
        {
          "output_type": "stream",
          "name": "stdout",
          "text": [
            "Theta0:          3.420,\n",
            "Theta1:          3.712\n",
            "Final cost/MSE:  4272.329\n",
            "Number of iterateions: 9370\n"
          ]
        }
      ],
      "source": [
        "print('Theta0:          {:0.3f},\\nTheta1:          {:0.3f}'.format(theta[0][-1],theta[1][-1]))\n",
        "print('Final cost/MSE:  {:0.3f}'.format(cost_history[-1]))\n",
        "print('Number of iterateions: {:d}'.format(iterations))"
      ],
      "id": "a4b599fc"
    },
    {
      "cell_type": "markdown",
      "metadata": {
        "id": "4b900aa2"
      },
      "source": [
        "11. Виведу прогнози на `X_train_df`, `X_test_df` та `mean_squared_error` помилку прогнозів в обох підвибірках."
      ],
      "id": "4b900aa2"
    },
    {
      "cell_type": "code",
      "source": [
        "round_number = 5\n",
        "def get_mse(y_train, y_train_pred,y_test, y_test_pred):\n",
        "  mse_train = mean_squared_error(y_train, y_train_pred)\n",
        "  mse_test = mean_squared_error(y_test, y_test_pred)\n",
        "  return {'mse_train': round(mse_train, round_number), 'mse_test': round(mse_test, round_number)}\n",
        "  \n"
      ],
      "metadata": {
        "id": "J5naBR9leh_6"
      },
      "id": "J5naBR9leh_6",
      "execution_count": null,
      "outputs": []
    },
    {
      "cell_type": "code",
      "execution_count": null,
      "metadata": {
        "colab": {
          "base_uri": "https://localhost:8080/"
        },
        "id": "92c350ea",
        "outputId": "714ac777-b607-4674-b23c-d90a04f27381"
      },
      "outputs": [
        {
          "output_type": "execute_result",
          "data": {
            "text/plain": [
              "{'mse_train': 0.44172, 'mse_test': 0.50788}"
            ]
          },
          "metadata": {},
          "execution_count": 65
        }
      ],
      "source": [
        "theta_vect = [theta[0][-1], theta[1][-1]]\n",
        "y_train_pred = predict(X_train1_df, theta_vect)\n",
        "y_test_pred = predict(X_test1_df, theta_vect)\n",
        "\n",
        "\n",
        "get_mse(y_train, y_train_pred, y_test, y_test_pred)\n"
      ],
      "id": "92c350ea"
    },
    {
      "cell_type": "markdown",
      "metadata": {
        "id": "e5de21d1"
      },
      "source": [
        "12. Виведу діаграму розсіювання ознак `Score` та `GDP per capita` та додам лінію прогнозу моделі."
      ],
      "id": "e5de21d1"
    },
    {
      "cell_type": "code",
      "execution_count": null,
      "metadata": {
        "colab": {
          "base_uri": "https://localhost:8080/",
          "height": 606
        },
        "id": "5a53e725",
        "outputId": "21f6323b-9c7d-4cf5-851a-5b865697cbba"
      },
      "outputs": [
        {
          "output_type": "display_data",
          "data": {
            "text/plain": [
              "<Figure size 864x720 with 1 Axes>"
            ],
            "image/png": "[encoded data removed]"
          },
          "metadata": {
            "needs_background": "light"
          }
        }
      ],
      "source": [
        "sns.regplot(x=y_train, y=y_train_pred, label='train')\n",
        "sns.regplot(x=y_test, y=y_test_pred, label='test')\n",
        "plt.ylabel(\"Score predict\")\n",
        "plt.xlabel(\"GDP per capita\")\n",
        "plt.legend();"
      ],
      "id": "5a53e725"
    },
    {
      "cell_type": "markdown",
      "metadata": {
        "id": "7c55cead"
      },
      "source": [
        "13. Тепер пророблю це все з використанням LinearRegression з sklearn. А саме - навчу лінійну регресію на наборі даних, що складається тільки з ознаки `GDP per capita`.   \n"
      ],
      "id": "7c55cead"
    },
    {
      "cell_type": "code",
      "execution_count": null,
      "metadata": {
        "colab": {
          "base_uri": "https://localhost:8080/"
        },
        "id": "cc1fd861",
        "outputId": "a79a04f8-c6a3-4099-d035-6240633fb9df"
      },
      "outputs": [
        {
          "output_type": "execute_result",
          "data": {
            "text/plain": [
              "{'mse_train': 0.44172, 'mse_test': 0.50791}"
            ]
          },
          "metadata": {},
          "execution_count": 66
        }
      ],
      "source": [
        "lin_model = LinearRegression()\n",
        "lin_model.fit(min_max_scaled_train, y_train)\n",
        "\n",
        "y_train_pred_skl = lin_model.predict(min_max_scaled_train)\n",
        "y_test_pred_skl = lin_model.predict(min_max_scaled_test)\n",
        "\n",
        "get_mse(y_train, y_train_pred_skl,y_test, y_test_pred_skl)\n",
        " \n",
        "\n"
      ],
      "id": "cc1fd861"
    },
    {
      "cell_type": "markdown",
      "metadata": {
        "id": "9ff8707d"
      },
      "source": [
        "Порівняю помилку на тестовій вибірці лінійної регресії, написаної мною, та зі sklearn. "
      ],
      "id": "9ff8707d"
    },
    {
      "cell_type": "code",
      "execution_count": null,
      "metadata": {
        "id": "e86662ec",
        "colab": {
          "base_uri": "https://localhost:8080/"
        },
        "outputId": "07169958-1978-40b6-8941-3057143a8a95"
      },
      "outputs": [
        {
          "output_type": "stream",
          "name": "stdout",
          "text": [
            "Eror using gradient descend: 0.50788\n",
            "Eror using sklearn: 0.50791\n"
          ]
        }
      ],
      "source": [
        "print(\"Eror using gradient descend:\", get_mse(y_train, y_train_pred, y_test, y_test_pred)['mse_test'])\n",
        "print(\"Eror using sklearn:\", get_mse(y_train, y_train_pred_skl,y_test, y_test_pred_skl)['mse_test'])"
      ],
      "id": "e86662ec"
    },
    {
      "cell_type": "markdown",
      "metadata": {
        "id": "61e8299b"
      },
      "source": [
        "14. На наступному етапі хотілося б врахувати більше ознак, і тим самим підвищити точність моделі. "
      ],
      "id": "61e8299b"
    },
    {
      "cell_type": "markdown",
      "metadata": {
        "id": "a4e10ab5"
      },
      "source": [
        "14.1 Здійсню навчання лінійної регресії з sklearn використовуючи наступний набір ознак: `GDP per capita`, `Social support`, `Healthy life expectancy`, `Freedom to make life choices`, `Generosity`, `Perceptions of corruption`\n",
        "\n"
      ],
      "id": "a4e10ab5"
    },
    {
      "cell_type": "code",
      "execution_count": null,
      "metadata": {
        "id": "69958ca9",
        "colab": {
          "base_uri": "https://localhost:8080/",
          "height": 52
        },
        "outputId": "cf53c89a-0dfc-4b9c-8ba9-3fb87d246b79"
      },
      "outputs": [
        {
          "output_type": "execute_result",
          "data": {
            "text/plain": [
              "LinearRegression()"
            ],
            "text/html": [
              "<style>#sk-container-id-2 {color: black;background-color: white;}#sk-container-id-2 pre{padding: 0;}#sk-container-id-2 div.sk-toggleable {background-color: white;}#sk-container-id-2 label.sk-toggleable__label {cursor: pointer;display: block;width: 100%;margin-bottom: 0;padding: 0.3em;box-sizing: border-box;text-align: center;}#sk-container-id-2 label.sk-toggleable__label-arrow:before {content: \"▸\";float: left;margin-right: 0.25em;color: #696969;}#sk-container-id-2 label.sk-toggleable__label-arrow:hover:before {color: black;}#sk-container-id-2 div.sk-estimator:hover label.sk-toggleable__label-arrow:before {color: black;}#sk-container-id-2 div.sk-toggleable__content {max-height: 0;max-width: 0;overflow: hidden;text-align: left;background-color: #f0f8ff;}#sk-container-id-2 div.sk-toggleable__content pre {margin: 0.2em;color: black;border-radius: 0.25em;background-color: #f0f8ff;}#sk-container-id-2 input.sk-toggleable__control:checked~div.sk-toggleable__content {max-height: 200px;max-width: 100%;overflow: auto;}#sk-container-id-2 input.sk-toggleable__control:checked~label.sk-toggleable__label-arrow:before {content: \"▾\";}#sk-container-id-2 div.sk-estimator input.sk-toggleable__control:checked~label.sk-toggleable__label {background-color: #d4ebff;}#sk-container-id-2 div.sk-label input.sk-toggleable__control:checked~label.sk-toggleable__label {background-color: #d4ebff;}#sk-container-id-2 input.sk-hidden--visually {border: 0;clip: rect(1px 1px 1px 1px);clip: rect(1px, 1px, 1px, 1px);height: 1px;margin: -1px;overflow: hidden;padding: 0;position: absolute;width: 1px;}#sk-container-id-2 div.sk-estimator {font-family: monospace;background-color: #f0f8ff;border: 1px dotted black;border-radius: 0.25em;box-sizing: border-box;margin-bottom: 0.5em;}#sk-container-id-2 div.sk-estimator:hover {background-color: #d4ebff;}#sk-container-id-2 div.sk-parallel-item::after {content: \"\";width: 100%;border-bottom: 1px solid gray;flex-grow: 1;}#sk-container-id-2 div.sk-label:hover label.sk-toggleable__label {background-color: #d4ebff;}#sk-container-id-2 div.sk-serial::before {content: \"\";position: absolute;border-left: 1px solid gray;box-sizing: border-box;top: 0;bottom: 0;left: 50%;z-index: 0;}#sk-container-id-2 div.sk-serial {display: flex;flex-direction: column;align-items: center;background-color: white;padding-right: 0.2em;padding-left: 0.2em;position: relative;}#sk-container-id-2 div.sk-item {position: relative;z-index: 1;}#sk-container-id-2 div.sk-parallel {display: flex;align-items: stretch;justify-content: center;background-color: white;position: relative;}#sk-container-id-2 div.sk-item::before, #sk-container-id-2 div.sk-parallel-item::before {content: \"\";position: absolute;border-left: 1px solid gray;box-sizing: border-box;top: 0;bottom: 0;left: 50%;z-index: -1;}#sk-container-id-2 div.sk-parallel-item {display: flex;flex-direction: column;z-index: 1;position: relative;background-color: white;}#sk-container-id-2 div.sk-parallel-item:first-child::after {align-self: flex-end;width: 50%;}#sk-container-id-2 div.sk-parallel-item:last-child::after {align-self: flex-start;width: 50%;}#sk-container-id-2 div.sk-parallel-item:only-child::after {width: 0;}#sk-container-id-2 div.sk-dashed-wrapped {border: 1px dashed gray;margin: 0 0.4em 0.5em 0.4em;box-sizing: border-box;padding-bottom: 0.4em;background-color: white;}#sk-container-id-2 div.sk-label label {font-family: monospace;font-weight: bold;display: inline-block;line-height: 1.2em;}#sk-container-id-2 div.sk-label-container {text-align: center;}#sk-container-id-2 div.sk-container {/* jupyter's `normalize.less` sets `[hidden] { display: none; }` but bootstrap.min.css set `[hidden] { display: none !important; }` so we also need the `!important` here to be able to override the default hidden behavior on the sphinx rendered scikit-learn.org. See: https://github.com/scikit-learn/scikit-learn/issues/21755 */display: inline-block !important;position: relative;}#sk-container-id-2 div.sk-text-repr-fallback {display: none;}</style><div id=\"sk-container-id-2\" class=\"sk-top-container\"><div class=\"sk-text-repr-fallback\"><pre>LinearRegression()</pre><b>In a Jupyter environment, please rerun this cell to show the HTML representation or trust the notebook. <br />On GitHub, the HTML representation is unable to render, please try loading this page with nbviewer.org.</b></div><div class=\"sk-container\" hidden><div class=\"sk-item\"><div class=\"sk-estimator sk-toggleable\"><input class=\"sk-toggleable__control sk-hidden--visually\" id=\"sk-estimator-id-2\" type=\"checkbox\" checked><label for=\"sk-estimator-id-2\" class=\"sk-toggleable__label sk-toggleable__label-arrow\">LinearRegression</label><div class=\"sk-toggleable__content\"><pre>LinearRegression()</pre></div></div></div></div></div>"
            ]
          },
          "metadata": {},
          "execution_count": 68
        }
      ],
      "source": [
        "#Функція для отримання індексів ознак\n",
        "def get_indeces(X):\n",
        "  train_id, test_id = train_test_split(X.index, test_size=test_size, shuffle=True, random_state=42)\n",
        "  return train_id, test_id\n",
        "\n",
        "X_m = df.drop(['Overall rank', 'Country or region', 'Score'], axis=1)\n",
        "y_m = df['Score']\n",
        "\n",
        "#Поділ на тренувальну і тестову вибірку\n",
        "test_size = 0.2\n",
        "train_id, test_id = get_indeces(X_m)\n",
        "\n",
        "#Масштабування ознак\n",
        "multi_min_max_scaler = MinMaxScaler(feature_range=(0, 1))\n",
        "multi_min_max_scaler.fit(X_m.loc[train_id])\n",
        "multi_min_max_scaled = multi_min_max_scaler.transform(X_m)\n",
        "multi_min_max_scaled_df = pd.DataFrame(multi_min_max_scaled, columns=X_m.columns)\n",
        "\n",
        "multi_lr = LinearRegression()\n",
        "multi_lr.fit(multi_min_max_scaled_df.loc[train_id], y_m.loc[train_id])"
      ],
      "id": "69958ca9"
    },
    {
      "cell_type": "markdown",
      "metadata": {
        "id": "8d8e3625"
      },
      "source": [
        "14.2 Виведу помилку прогнозу на `train` та `test` вибірках. Порівняю з результатом, отриманим під час навчання однією ознакою. "
      ],
      "id": "8d8e3625"
    },
    {
      "cell_type": "code",
      "execution_count": null,
      "metadata": {
        "id": "95591a90",
        "colab": {
          "base_uri": "https://localhost:8080/"
        },
        "outputId": "cf1f0b56-5080-4beb-d0f8-cba994bcd95d"
      },
      "outputs": [
        {
          "output_type": "execute_result",
          "data": {
            "text/plain": [
              "{'mse_train': 0.23647, 'mse_test': 0.41446}"
            ]
          },
          "metadata": {},
          "execution_count": 69
        }
      ],
      "source": [
        "multi_y_train_pred_skl = multi_lr.predict(multi_min_max_scaled_df.loc[train_id])\n",
        "multi_y_test_pred_skl = multi_lr.predict(multi_min_max_scaled_df.loc[test_id])\n",
        "\n",
        "get_mse(y_m.loc[train_id], multi_y_train_pred_skl,y_m.loc[test_id], multi_y_test_pred_skl)\n"
      ],
      "id": "95591a90"
    },
    {
      "cell_type": "markdown",
      "source": [
        "При додавані більше ознак до регресійної моделі метрики змінилися в кращу сторону (на тестових даних з 0.507 до 0.414). Модель покращилася, це підтверджує правильність вибору саме тих ознак, які впливають на цільову змінну.\n"
      ],
      "metadata": {
        "id": "xy3RZW0JzIu5"
      },
      "id": "xy3RZW0JzIu5"
    },
    {
      "cell_type": "markdown",
      "metadata": {
        "id": "f1b2b3fb"
      },
      "source": [
        "14.3 Виведу коефіцієнти моделі і визначу, які ознаки мають найбільші коефіцієнти по модулю, що стоять перед ними."
      ],
      "id": "f1b2b3fb"
    },
    {
      "cell_type": "code",
      "execution_count": null,
      "metadata": {
        "id": "8649e634",
        "colab": {
          "base_uri": "https://localhost:8080/",
          "height": 238
        },
        "outputId": "dd38ead6-c8f3-4610-ea98-f3a91d4fe54c"
      },
      "outputs": [
        {
          "output_type": "execute_result",
          "data": {
            "text/plain": [
              "                              Importance\n",
              "GDP per capita                  1.264207\n",
              "Social support                  2.001295\n",
              "Healthy life expectancy         1.062208\n",
              "Freedom to make life choices    0.940072\n",
              "Generosity                      0.153034\n",
              "Perceptions of corruption       0.503931"
            ],
            "text/html": [
              "\n",
              "  <div id=\"df-5f0fd97d-d178-43cd-88f8-32cc91c07bb2\">\n",
              "    <div class=\"colab-df-container\">\n",
              "      <div>\n",
              "<style scoped>\n",
              "    .dataframe tbody tr th:only-of-type {\n",
              "        vertical-align: middle;\n",
              "    }\n",
              "\n",
              "    .dataframe tbody tr th {\n",
              "        vertical-align: top;\n",
              "    }\n",
              "\n",
              "    .dataframe thead th {\n",
              "        text-align: right;\n",
              "    }\n",
              "</style>\n",
              "<table border=\"1\" class=\"dataframe\">\n",
              "  <thead>\n",
              "    <tr style=\"text-align: right;\">\n",
              "      <th></th>\n",
              "      <th>Importance</th>\n",
              "    </tr>\n",
              "  </thead>\n",
              "  <tbody>\n",
              "    <tr>\n",
              "      <th>GDP per capita</th>\n",
              "      <td>1.264207</td>\n",
              "    </tr>\n",
              "    <tr>\n",
              "      <th>Social support</th>\n",
              "      <td>2.001295</td>\n",
              "    </tr>\n",
              "    <tr>\n",
              "      <th>Healthy life expectancy</th>\n",
              "      <td>1.062208</td>\n",
              "    </tr>\n",
              "    <tr>\n",
              "      <th>Freedom to make life choices</th>\n",
              "      <td>0.940072</td>\n",
              "    </tr>\n",
              "    <tr>\n",
              "      <th>Generosity</th>\n",
              "      <td>0.153034</td>\n",
              "    </tr>\n",
              "    <tr>\n",
              "      <th>Perceptions of corruption</th>\n",
              "      <td>0.503931</td>\n",
              "    </tr>\n",
              "  </tbody>\n",
              "</table>\n",
              "</div>\n",
              "      <button class=\"colab-df-convert\" onclick=\"convertToInteractive('df-5f0fd97d-d178-43cd-88f8-32cc91c07bb2')\"\n",
              "              title=\"Convert this dataframe to an interactive table.\"\n",
              "              style=\"display:none;\">\n",
              "        \n",
              "  <svg xmlns=\"http://www.w3.org/2000/svg\" height=\"24px\"viewBox=\"0 0 24 24\"\n",
              "       width=\"24px\">\n",
              "    <path d=\"M0 0h24v24H0V0z\" fill=\"none\"/>\n",
              "    <path d=\"M18.56 5.44l.94 2.06.94-2.06 2.06-.94-2.06-.94-.94-2.06-.94 2.06-2.06.94zm-11 1L8.5 8.5l.94-2.06 2.06-.94-2.06-.94L8.5 2.5l-.94 2.06-2.06.94zm10 10l.94 2.06.94-2.06 2.06-.94-2.06-.94-.94-2.06-.94 2.06-2.06.94z\"/><path d=\"M17.41 7.96l-1.37-1.37c-.4-.4-.92-.59-1.43-.59-.52 0-1.04.2-1.43.59L10.3 9.45l-7.72 7.72c-.78.78-.78 2.05 0 2.83L4 21.41c.39.39.9.59 1.41.59.51 0 1.02-.2 1.41-.59l7.78-7.78 2.81-2.81c.8-.78.8-2.07 0-2.86zM5.41 20L4 18.59l7.72-7.72 1.47 1.35L5.41 20z\"/>\n",
              "  </svg>\n",
              "      </button>\n",
              "      \n",
              "  <style>\n",
              "    .colab-df-container {\n",
              "      display:flex;\n",
              "      flex-wrap:wrap;\n",
              "      gap: 12px;\n",
              "    }\n",
              "\n",
              "    .colab-df-convert {\n",
              "      background-color: #E8F0FE;\n",
              "      border: none;\n",
              "      border-radius: 50%;\n",
              "      cursor: pointer;\n",
              "      display: none;\n",
              "      fill: #1967D2;\n",
              "      height: 32px;\n",
              "      padding: 0 0 0 0;\n",
              "      width: 32px;\n",
              "    }\n",
              "\n",
              "    .colab-df-convert:hover {\n",
              "      background-color: #E2EBFA;\n",
              "      box-shadow: 0px 1px 2px rgba(60, 64, 67, 0.3), 0px 1px 3px 1px rgba(60, 64, 67, 0.15);\n",
              "      fill: #174EA6;\n",
              "    }\n",
              "\n",
              "    [theme=dark] .colab-df-convert {\n",
              "      background-color: #3B4455;\n",
              "      fill: #D2E3FC;\n",
              "    }\n",
              "\n",
              "    [theme=dark] .colab-df-convert:hover {\n",
              "      background-color: #434B5C;\n",
              "      box-shadow: 0px 1px 3px 1px rgba(0, 0, 0, 0.15);\n",
              "      filter: drop-shadow(0px 1px 2px rgba(0, 0, 0, 0.3));\n",
              "      fill: #FFFFFF;\n",
              "    }\n",
              "  </style>\n",
              "\n",
              "      <script>\n",
              "        const buttonEl =\n",
              "          document.querySelector('#df-5f0fd97d-d178-43cd-88f8-32cc91c07bb2 button.colab-df-convert');\n",
              "        buttonEl.style.display =\n",
              "          google.colab.kernel.accessAllowed ? 'block' : 'none';\n",
              "\n",
              "        async function convertToInteractive(key) {\n",
              "          const element = document.querySelector('#df-5f0fd97d-d178-43cd-88f8-32cc91c07bb2');\n",
              "          const dataTable =\n",
              "            await google.colab.kernel.invokeFunction('convertToInteractive',\n",
              "                                                     [key], {});\n",
              "          if (!dataTable) return;\n",
              "\n",
              "          const docLinkHtml = 'Like what you see? Visit the ' +\n",
              "            '<a target=\"_blank\" href=https://colab.research.google.com/notebooks/data_table.ipynb>data table notebook</a>'\n",
              "            + ' to learn more about interactive tables.';\n",
              "          element.innerHTML = '';\n",
              "          dataTable['output_type'] = 'display_data';\n",
              "          await google.colab.output.renderOutput(dataTable, element);\n",
              "          const docLink = document.createElement('div');\n",
              "          docLink.innerHTML = docLinkHtml;\n",
              "          element.appendChild(docLink);\n",
              "        }\n",
              "      </script>\n",
              "    </div>\n",
              "  </div>\n",
              "  "
            ]
          },
          "metadata": {},
          "execution_count": 70
        }
      ],
      "source": [
        "feature_importance_df = pd.DataFrame(multi_lr.coef_, index=X_m.columns, columns=['Importance'])\n",
        "#print(\"Intercept:\", round(multi_lr.intercept_, round_number))\n",
        "feature_importance_df"
      ],
      "id": "8649e634"
    },
    {
      "cell_type": "markdown",
      "source": [
        "Найважливіші ознаки для аналізу це \"Social support\", \"GDP per capita\", \"Healthy life expectancy\", \"Freedom to make life choices\"."
      ],
      "metadata": {
        "id": "aIXnsDJn0bKl"
      },
      "id": "aIXnsDJn0bKl"
    },
    {
      "cell_type": "markdown",
      "metadata": {
        "id": "21912671"
      },
      "source": [
        "15. Тепер навчу модель поліноміальної регресії зі ступенем 2 на тих самих даних, що й у попередньому пункті. В процесі навчання використовуватиму `PolynomialFeatures`. "
      ],
      "id": "21912671"
    },
    {
      "cell_type": "code",
      "execution_count": null,
      "metadata": {
        "id": "f2432d1c",
        "colab": {
          "base_uri": "https://localhost:8080/"
        },
        "outputId": "4313cead-fac7-4aa0-dfc8-0c6382877dfc"
      },
      "outputs": [
        {
          "output_type": "execute_result",
          "data": {
            "text/plain": [
              "{'mse_train': 0.35396, 'mse_test': 0.51702}"
            ]
          },
          "metadata": {},
          "execution_count": 71
        }
      ],
      "source": [
        "\n",
        "degree = 2\n",
        "poly_features = PolynomialFeatures(degree=degree)\n",
        "poly_X_m_train = poly_features.fit_transform(multi_min_max_scaled_df.loc[train_id])\n",
        "poly_X_m_test = poly_features.fit_transform(multi_min_max_scaled_df.loc[test_id])\n",
        "\n",
        "poly_model = LinearRegression()\n",
        "poly_model.fit(poly_X_m_train, y_m.loc[train_id])\n",
        "\n",
        "poli_y_train_pred_skl = poly_model.predict(poly_X_m_train)\n",
        "poli_y_test_pred_skl = poly_model.predict(poly_X_m_test)\n",
        "\n",
        "get_mse(y_m[train_id], poli_y_train_pred_skl, y_m[test_id], poli_y_test_pred_skl)\n"
      ],
      "id": "f2432d1c"
    },
    {
      "cell_type": "markdown",
      "source": [
        "При степені 2 ще не відбувається перенавчання."
      ],
      "metadata": {
        "id": "YjwCD0ZR1CeB"
      },
      "id": "YjwCD0ZR1CeB"
    },
    {
      "cell_type": "markdown",
      "metadata": {
        "id": "af1ffc17"
      },
      "source": [
        "16. Напишу пайплайн із кроками `MinMaxScaler`, `PolynomialFeatures` та `ElasticNet`. "
      ],
      "id": "af1ffc17"
    },
    {
      "cell_type": "code",
      "execution_count": null,
      "metadata": {
        "id": "8b654ac1",
        "colab": {
          "base_uri": "https://localhost:8080/"
        },
        "outputId": "7a42eb88-ad5a-482f-9938-f0a0b8bdc93b"
      },
      "outputs": [
        {
          "output_type": "execute_result",
          "data": {
            "text/plain": [
              "{'mse_train': 1.27946, 'mse_test': 1.04443}"
            ]
          },
          "metadata": {},
          "execution_count": 72
        }
      ],
      "source": [
        "X_train, X_test, y_train, y_test = train_test_split(X_m, y_m, test_size=0.2, random_state=42)\n",
        "pipe = Pipeline(steps=[\n",
        "    ('scaler',MinMaxScaler()),\n",
        "    ('preprocessor', PolynomialFeatures(degree=2, include_bias=False)),\n",
        "    ('estimator', ElasticNet())\n",
        "])\n",
        "pipe.fit(X_train, y_train)\n",
        "\n",
        "y_pred_train_pipe = pipe.predict(X_train)\n",
        "y_pred_test_pipe = pipe.predict(X_test)\n",
        "\n",
        "get_mse(y_train, y_pred_train_pipe, y_test, y_pred_test_pipe)\n",
        "\n"
      ],
      "id": "8b654ac1"
    },
    {
      "cell_type": "markdown",
      "source": [
        "Найкращі значення середньоквадратичної помилки на тестових даних показала\n",
        "лінійна регресія зі sklearn. Крім цього я наглядно побачила як додавання важливих ознак до моделі \n",
        "покращує якість передбачення."
      ],
      "metadata": {
        "id": "bYvsNcaa0njn"
      },
      "id": "bYvsNcaa0njn"
    }
  ],
  "metadata": {
    "colab": {
      "provenance": []
    },
    "kernelspec": {
      "display_name": "Python 3 (ipykernel)",
      "language": "python",
      "name": "python3"
    },
    "language_info": {
      "codemirror_mode": {
        "name": "ipython",
        "version": 3
      },
      "file_extension": ".py",
      "mimetype": "text/x-python",
      "name": "python",
      "nbconvert_exporter": "python",
      "pygments_lexer": "ipython3",
      "version": "3.9.7"
    },
    "toc": {
      "base_numbering": 1,
      "nav_menu": {},
      "number_sections": true,
      "sideBar": true,
      "skip_h1_title": false,
      "title_cell": "Table of Contents",
      "title_sidebar": "Contents",
      "toc_cell": false,
      "toc_position": {},
      "toc_section_display": true,
      "toc_window_display": false
    }
  },
  "nbformat": 4,
  "nbformat_minor": 5
}